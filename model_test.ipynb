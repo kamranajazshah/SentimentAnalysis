{
 "cells": [
  {
   "cell_type": "code",
   "execution_count": 32,
   "id": "f95070fc",
   "metadata": {},
   "outputs": [],
   "source": [
    "import pandas as pd\n",
    "import numpy as np\n",
    "from nltk.corpus import stopwords\n",
    "from nltk.stem import PorterStemmer\n",
    "from nltk.stem import WordNetLemmatizer\n"
   ]
  },
  {
   "cell_type": "code",
   "execution_count": 33,
   "id": "540155d5",
   "metadata": {},
   "outputs": [],
   "source": [
    "df_new=pd.read_csv(\"a2_RestaurantReviews_FreshDump.tsv\",sep=\"\\t\")"
   ]
  },
  {
   "cell_type": "code",
   "execution_count": 34,
   "id": "08cba9a4",
   "metadata": {},
   "outputs": [
    {
     "data": {
      "text/html": [
       "<div>\n",
       "<style scoped>\n",
       "    .dataframe tbody tr th:only-of-type {\n",
       "        vertical-align: middle;\n",
       "    }\n",
       "\n",
       "    .dataframe tbody tr th {\n",
       "        vertical-align: top;\n",
       "    }\n",
       "\n",
       "    .dataframe thead th {\n",
       "        text-align: right;\n",
       "    }\n",
       "</style>\n",
       "<table border=\"1\" class=\"dataframe\">\n",
       "  <thead>\n",
       "    <tr style=\"text-align: right;\">\n",
       "      <th></th>\n",
       "      <th>Review</th>\n",
       "    </tr>\n",
       "  </thead>\n",
       "  <tbody>\n",
       "    <tr>\n",
       "      <th>0</th>\n",
       "      <td>Spend your money elsewhere.</td>\n",
       "    </tr>\n",
       "    <tr>\n",
       "      <th>1</th>\n",
       "      <td>Their regular toasted bread was equally satisf...</td>\n",
       "    </tr>\n",
       "    <tr>\n",
       "      <th>2</th>\n",
       "      <td>The Buffet at Bellagio was far from what I ant...</td>\n",
       "    </tr>\n",
       "    <tr>\n",
       "      <th>3</th>\n",
       "      <td>And the drinks are WEAK, people!</td>\n",
       "    </tr>\n",
       "    <tr>\n",
       "      <th>4</th>\n",
       "      <td>-My order was not correct.</td>\n",
       "    </tr>\n",
       "    <tr>\n",
       "      <th>...</th>\n",
       "      <td>...</td>\n",
       "    </tr>\n",
       "    <tr>\n",
       "      <th>95</th>\n",
       "      <td>I think food should have flavor and texture an...</td>\n",
       "    </tr>\n",
       "    <tr>\n",
       "      <th>96</th>\n",
       "      <td>Appetite instantly gone.</td>\n",
       "    </tr>\n",
       "    <tr>\n",
       "      <th>97</th>\n",
       "      <td>Overall I was not impressed and would not go b...</td>\n",
       "    </tr>\n",
       "    <tr>\n",
       "      <th>98</th>\n",
       "      <td>The whole experience was underwhelming, and I ...</td>\n",
       "    </tr>\n",
       "    <tr>\n",
       "      <th>99</th>\n",
       "      <td>Then, as if I hadn't wasted enough of my life ...</td>\n",
       "    </tr>\n",
       "  </tbody>\n",
       "</table>\n",
       "<p>100 rows × 1 columns</p>\n",
       "</div>"
      ],
      "text/plain": [
       "                                               Review\n",
       "0                         Spend your money elsewhere.\n",
       "1   Their regular toasted bread was equally satisf...\n",
       "2   The Buffet at Bellagio was far from what I ant...\n",
       "3                    And the drinks are WEAK, people!\n",
       "4                          -My order was not correct.\n",
       "..                                                ...\n",
       "95  I think food should have flavor and texture an...\n",
       "96                           Appetite instantly gone.\n",
       "97  Overall I was not impressed and would not go b...\n",
       "98  The whole experience was underwhelming, and I ...\n",
       "99  Then, as if I hadn't wasted enough of my life ...\n",
       "\n",
       "[100 rows x 1 columns]"
      ]
     },
     "execution_count": 34,
     "metadata": {},
     "output_type": "execute_result"
    }
   ],
   "source": [
    "df_new"
   ]
  },
  {
   "cell_type": "code",
   "execution_count": 35,
   "id": "c19e2725",
   "metadata": {},
   "outputs": [],
   "source": [
    "stemmer=PorterStemmer()\n",
    "lm=WordNetLemmatizer()"
   ]
  },
  {
   "cell_type": "code",
   "execution_count": 36,
   "id": "5e981936",
   "metadata": {},
   "outputs": [],
   "source": [
    "import re\n",
    "corpus=[]\n",
    "for i in range(len(df_new)):\n",
    "    review=re.sub(r\"[^A-Za-z]\",\" \",df_new[\"Review\"][i])\n",
    "    review=review.lower()\n",
    "    review= review.split(\" \")\n",
    "    review=[lm.lemmatize(word) for word in review if word not  in stopwords.words(\"english\")]\n",
    "    review=\" \".join(review)\n",
    "    corpus.append(review)\n",
    "    "
   ]
  },
  {
   "cell_type": "code",
   "execution_count": 39,
   "id": "7e76e719",
   "metadata": {},
   "outputs": [
    {
     "data": {
      "text/plain": [
       "['spend money elsewhere ',\n",
       " 'regular toasted bread equally satisfying occasional pat butter    mmmm    ',\n",
       " 'buffet bellagio far anticipated ',\n",
       " 'drink weak  people ',\n",
       " ' order correct ',\n",
       " 'also  feel like chip bought  made house ',\n",
       " 'disappointing dinner went elsewhere dessert ',\n",
       " 'chip sals amazing                   ',\n",
       " 'returning ',\n",
       " 'new fav vega buffet spot ',\n",
       " 'seriously cannot believe owner many unexperienced employee running around like chicken head cut ',\n",
       " ' sad ',\n",
       " 'felt insulted disrespected  could talk judge another human like ',\n",
       " 'call steakhouse properly cook steak  understand ',\n",
       " 'impressed concept food ',\n",
       " 'thing crazy guacamole like pur ed ',\n",
       " 'really nothing postinos  hope experience better',\n",
       " 'got food poisoning buffet ',\n",
       " 'brought fresh batch fry thinking yay something warm ',\n",
       " 'hilarious  yummy christmas eve dinner remember biggest fail entire trip u ',\n",
       " 'needle say  going back anytime soon ',\n",
       " 'place disgusting ',\n",
       " 'every time eat  see caring teamwork professional degree ',\n",
       " 'ri style calamari joke ',\n",
       " 'however  much garlic fondue  barely edible ',\n",
       " 'could barely stomach meal  complain business lunch ',\n",
       " 'bad  lost heart finish ',\n",
       " 'also took forever bring u check asked ',\n",
       " 'one make scene restaurant get   definitely lost love one ',\n",
       " 'disappointing experience ',\n",
       " 'food par denny  say  good ',\n",
       " 'want wait mediocre food downright terrible service  place ',\n",
       " 'waaaaaayyyyyyyyyy rated saying ',\n",
       " 'going back ',\n",
       " 'place fairly clean food simply worth ',\n",
       " 'place lacked style  ',\n",
       " 'sangria half glass wine full      ridiculous ',\n",
       " 'bother coming ',\n",
       " 'meat pretty dry  sliced brisket pulled pork ',\n",
       " 'building seems pretty neat  bathroom pretty trippy  eat ',\n",
       " 'equally awful ',\n",
       " 'probably hurry go back ',\n",
       " 'slow seating even reservation ',\n",
       " 'good stretch imagination ',\n",
       " 'cashew cream sauce bland vegetable undercooked ',\n",
       " 'chipolte ranch dipping sause tasteless  seemed thin watered heat ',\n",
       " 'bit sweet  really spicy enough  lacked flavor ',\n",
       " 'disappointed  ',\n",
       " 'place horrible way overpriced ',\n",
       " 'maybe vegetarian fare  twice thought average best ',\n",
       " 'busy know ',\n",
       " 'table outside also dirty lot time worker always friendly helpful menu ',\n",
       " 'ambiance feel like buffet setting  douchey indoor garden tea biscuit ',\n",
       " 'con  spotty service ',\n",
       " 'fry hot  neither burger ',\n",
       " 'came back cold ',\n",
       " 'food came  disappointment ensued ',\n",
       " 'real disappointment waiter ',\n",
       " 'husband said rude    even apologize bad food anything ',\n",
       " 'reason eat would fill night binge drinking get carbs stomach ',\n",
       " 'insult  profound deuchebaggery  go outside smoke break serving solidify ',\n",
       " 'someone order two taco  think may part customer service ask combo ala cart ',\n",
       " 'quite disappointed although blame need placed door ',\n",
       " 'rave review wait eat      disappointment ',\n",
       " 'del taco pretty nasty avoided possible ',\n",
       " 'hard make decent hamburger ',\n",
       " 'like ',\n",
       " 'hell go back',\n",
       " 'gotten much better service pizza place next door service received restaurant ',\n",
       " 'know big deal place  back  ya  ',\n",
       " 'immediately said wanted talk manager want talk guy shot fireball behind bar ',\n",
       " 'ambiance much better ',\n",
       " 'unfortunately  set u disapppointment entree ',\n",
       " 'food good ',\n",
       " 'server suck  wait  correction  server heimer sucked ',\n",
       " 'happened next pretty    putting ',\n",
       " 'bad cause know family owned  really wanted like place ',\n",
       " 'overpriced getting ',\n",
       " 'vomited bathroom mid lunch ',\n",
       " 'kept looking time soon become    minute  yet still food ',\n",
       " 'place eat circumstance would ever return  top list ',\n",
       " 'started tuna sashimi brownish color obviously fresh ',\n",
       " 'food average ',\n",
       " 'sure beat nacho movie would expect little bit coming restaurant ',\n",
       " ' ha long bay bit flop ',\n",
       " 'problem charge        sandwich bigger subway sub  offer better amount vegetable  ',\n",
       " 'shrimp  unwrapped  live     mile brushfire  literally ice cold ',\n",
       " 'lacked flavor  seemed undercooked  dry ',\n",
       " 'really impressive place closed ',\n",
       " 'would avoid place staying mirage ',\n",
       " 'refried bean came meal dried crusty food bland ',\n",
       " 'spend money time place else ',\n",
       " 'lady table next u found live green caterpillar salad ',\n",
       " 'presentation food awful ',\n",
       " 'tell disappointed ',\n",
       " 'think food flavor texture lacking ',\n",
       " 'appetite instantly gone ',\n",
       " 'overall impressed would go back ',\n",
       " 'whole experience underwhelming  think go ninja sushi next time ',\n",
       " ' wasted enough life  poured salt wound drawing time took bring check ']"
      ]
     },
     "execution_count": 39,
     "metadata": {},
     "output_type": "execute_result"
    }
   ],
   "source": [
    "corpus"
   ]
  },
  {
   "cell_type": "code",
   "execution_count": 40,
   "id": "5d4e09c7",
   "metadata": {},
   "outputs": [],
   "source": [
    "import pickle\n",
    "with open(\"model1.pkl\", \"rb\") as file:  # Read-binary mode\n",
    "    model1 = pickle.load(file)"
   ]
  },
  {
   "cell_type": "code",
   "execution_count": 47,
   "id": "2e9c7b62",
   "metadata": {},
   "outputs": [],
   "source": [
    "import pickle\n",
    "with open(\"Vectorizer.pkl\", \"rb\") as file:  # Read-binary mode\n",
    "    tf = pickle.load(file)"
   ]
  },
  {
   "cell_type": "code",
   "execution_count": 48,
   "id": "4bfc8889",
   "metadata": {},
   "outputs": [
    {
     "data": {
      "text/plain": [
       "(100, 1640)"
      ]
     },
     "execution_count": 48,
     "metadata": {},
     "output_type": "execute_result"
    }
   ],
   "source": [
    "from sklearn.feature_extraction.text import TfidfVectorizer\n",
    "X_test=tf.transform(corpus).toarray()\n",
    "X_test.shape"
   ]
  },
  {
   "cell_type": "code",
   "execution_count": 50,
   "id": "42287ce8",
   "metadata": {},
   "outputs": [],
   "source": [
    "y_pred=model1.predict(X_test)"
   ]
  },
  {
   "cell_type": "code",
   "execution_count": 57,
   "id": "c6e8f75b",
   "metadata": {},
   "outputs": [],
   "source": [
    "df_new[\"predicted_label\"]=y_pred.tolist()"
   ]
  },
  {
   "cell_type": "code",
   "execution_count": 59,
   "id": "94549bd7",
   "metadata": {},
   "outputs": [
    {
     "data": {
      "text/html": [
       "<div>\n",
       "<style scoped>\n",
       "    .dataframe tbody tr th:only-of-type {\n",
       "        vertical-align: middle;\n",
       "    }\n",
       "\n",
       "    .dataframe tbody tr th {\n",
       "        vertical-align: top;\n",
       "    }\n",
       "\n",
       "    .dataframe thead th {\n",
       "        text-align: right;\n",
       "    }\n",
       "</style>\n",
       "<table border=\"1\" class=\"dataframe\">\n",
       "  <thead>\n",
       "    <tr style=\"text-align: right;\">\n",
       "      <th></th>\n",
       "      <th>Review</th>\n",
       "      <th>predicted_label</th>\n",
       "    </tr>\n",
       "  </thead>\n",
       "  <tbody>\n",
       "    <tr>\n",
       "      <th>0</th>\n",
       "      <td>Spend your money elsewhere.</td>\n",
       "      <td>0</td>\n",
       "    </tr>\n",
       "    <tr>\n",
       "      <th>1</th>\n",
       "      <td>Their regular toasted bread was equally satisf...</td>\n",
       "      <td>1</td>\n",
       "    </tr>\n",
       "    <tr>\n",
       "      <th>2</th>\n",
       "      <td>The Buffet at Bellagio was far from what I ant...</td>\n",
       "      <td>1</td>\n",
       "    </tr>\n",
       "    <tr>\n",
       "      <th>3</th>\n",
       "      <td>And the drinks are WEAK, people!</td>\n",
       "      <td>0</td>\n",
       "    </tr>\n",
       "    <tr>\n",
       "      <th>4</th>\n",
       "      <td>-My order was not correct.</td>\n",
       "      <td>1</td>\n",
       "    </tr>\n",
       "    <tr>\n",
       "      <th>...</th>\n",
       "      <td>...</td>\n",
       "      <td>...</td>\n",
       "    </tr>\n",
       "    <tr>\n",
       "      <th>95</th>\n",
       "      <td>I think food should have flavor and texture an...</td>\n",
       "      <td>0</td>\n",
       "    </tr>\n",
       "    <tr>\n",
       "      <th>96</th>\n",
       "      <td>Appetite instantly gone.</td>\n",
       "      <td>1</td>\n",
       "    </tr>\n",
       "    <tr>\n",
       "      <th>97</th>\n",
       "      <td>Overall I was not impressed and would not go b...</td>\n",
       "      <td>0</td>\n",
       "    </tr>\n",
       "    <tr>\n",
       "      <th>98</th>\n",
       "      <td>The whole experience was underwhelming, and I ...</td>\n",
       "      <td>0</td>\n",
       "    </tr>\n",
       "    <tr>\n",
       "      <th>99</th>\n",
       "      <td>Then, as if I hadn't wasted enough of my life ...</td>\n",
       "      <td>1</td>\n",
       "    </tr>\n",
       "  </tbody>\n",
       "</table>\n",
       "<p>100 rows × 2 columns</p>\n",
       "</div>"
      ],
      "text/plain": [
       "                                               Review  predicted_label\n",
       "0                         Spend your money elsewhere.                0\n",
       "1   Their regular toasted bread was equally satisf...                1\n",
       "2   The Buffet at Bellagio was far from what I ant...                1\n",
       "3                    And the drinks are WEAK, people!                0\n",
       "4                          -My order was not correct.                1\n",
       "..                                                ...              ...\n",
       "95  I think food should have flavor and texture an...                0\n",
       "96                           Appetite instantly gone.                1\n",
       "97  Overall I was not impressed and would not go b...                0\n",
       "98  The whole experience was underwhelming, and I ...                0\n",
       "99  Then, as if I hadn't wasted enough of my life ...                1\n",
       "\n",
       "[100 rows x 2 columns]"
      ]
     },
     "execution_count": 59,
     "metadata": {},
     "output_type": "execute_result"
    }
   ],
   "source": [
    "df_new"
   ]
  },
  {
   "cell_type": "code",
   "execution_count": null,
   "id": "de943cc0",
   "metadata": {},
   "outputs": [],
   "source": []
  }
 ],
 "metadata": {
  "kernelspec": {
   "display_name": "Python 3 (ipykernel)",
   "language": "python",
   "name": "python3"
  },
  "language_info": {
   "codemirror_mode": {
    "name": "ipython",
    "version": 3
   },
   "file_extension": ".py",
   "mimetype": "text/x-python",
   "name": "python",
   "nbconvert_exporter": "python",
   "pygments_lexer": "ipython3",
   "version": "3.11.7"
  },
  "varInspector": {
   "cols": {
    "lenName": 16,
    "lenType": 16,
    "lenVar": 40
   },
   "kernels_config": {
    "python": {
     "delete_cmd_postfix": "",
     "delete_cmd_prefix": "del ",
     "library": "var_list.py",
     "varRefreshCmd": "print(var_dic_list())"
    },
    "r": {
     "delete_cmd_postfix": ") ",
     "delete_cmd_prefix": "rm(",
     "library": "var_list.r",
     "varRefreshCmd": "cat(var_dic_list()) "
    }
   },
   "types_to_exclude": [
    "module",
    "function",
    "builtin_function_or_method",
    "instance",
    "_Feature"
   ],
   "window_display": false
  }
 },
 "nbformat": 4,
 "nbformat_minor": 5
}
