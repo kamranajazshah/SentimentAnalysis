{
 "cells": [
  {
   "cell_type": "code",
   "execution_count": 1,
   "id": "fccd679b",
   "metadata": {},
   "outputs": [],
   "source": [
    "import numpy as np\n",
    "import pandas as pd \n",
    "from sklearn.model_selection import train_test_split\n",
    "from sklearn.feature_extraction.text import CountVectorizer\n",
    "from nltk.corpus import stopwords"
   ]
  },
  {
   "cell_type": "code",
   "execution_count": 2,
   "id": "6d353b31",
   "metadata": {},
   "outputs": [],
   "source": [
    "df=pd.read_csv(\"a1_RestaurantReviews_HistoricDump.tsv\",sep=\"\\t\")\n"
   ]
  },
  {
   "cell_type": "code",
   "execution_count": 3,
   "id": "c0cfe882",
   "metadata": {},
   "outputs": [
    {
     "data": {
      "text/html": [
       "<div>\n",
       "<style scoped>\n",
       "    .dataframe tbody tr th:only-of-type {\n",
       "        vertical-align: middle;\n",
       "    }\n",
       "\n",
       "    .dataframe tbody tr th {\n",
       "        vertical-align: top;\n",
       "    }\n",
       "\n",
       "    .dataframe thead th {\n",
       "        text-align: right;\n",
       "    }\n",
       "</style>\n",
       "<table border=\"1\" class=\"dataframe\">\n",
       "  <thead>\n",
       "    <tr style=\"text-align: right;\">\n",
       "      <th></th>\n",
       "      <th>Review</th>\n",
       "      <th>Liked</th>\n",
       "    </tr>\n",
       "  </thead>\n",
       "  <tbody>\n",
       "    <tr>\n",
       "      <th>0</th>\n",
       "      <td>Wow... Loved this place.</td>\n",
       "      <td>1</td>\n",
       "    </tr>\n",
       "    <tr>\n",
       "      <th>1</th>\n",
       "      <td>Crust is not good.</td>\n",
       "      <td>0</td>\n",
       "    </tr>\n",
       "    <tr>\n",
       "      <th>2</th>\n",
       "      <td>Not tasty and the texture was just nasty.</td>\n",
       "      <td>0</td>\n",
       "    </tr>\n",
       "    <tr>\n",
       "      <th>3</th>\n",
       "      <td>Stopped by during the late May bank holiday of...</td>\n",
       "      <td>1</td>\n",
       "    </tr>\n",
       "    <tr>\n",
       "      <th>4</th>\n",
       "      <td>The selection on the menu was great and so wer...</td>\n",
       "      <td>1</td>\n",
       "    </tr>\n",
       "  </tbody>\n",
       "</table>\n",
       "</div>"
      ],
      "text/plain": [
       "                                              Review  Liked\n",
       "0                           Wow... Loved this place.      1\n",
       "1                                 Crust is not good.      0\n",
       "2          Not tasty and the texture was just nasty.      0\n",
       "3  Stopped by during the late May bank holiday of...      1\n",
       "4  The selection on the menu was great and so wer...      1"
      ]
     },
     "execution_count": 3,
     "metadata": {},
     "output_type": "execute_result"
    }
   ],
   "source": [
    "df.head()"
   ]
  },
  {
   "cell_type": "code",
   "execution_count": null,
   "id": "9451a38c",
   "metadata": {},
   "outputs": [],
   "source": [
    "\n"
   ]
  },
  {
   "cell_type": "code",
   "execution_count": 4,
   "id": "9cb0b29a",
   "metadata": {},
   "outputs": [
    {
     "name": "stdout",
     "output_type": "stream",
     "text": [
      "<class 'pandas.core.frame.DataFrame'>\n",
      "RangeIndex: 900 entries, 0 to 899\n",
      "Data columns (total 2 columns):\n",
      " #   Column  Non-Null Count  Dtype \n",
      "---  ------  --------------  ----- \n",
      " 0   Review  900 non-null    object\n",
      " 1   Liked   900 non-null    int64 \n",
      "dtypes: int64(1), object(1)\n",
      "memory usage: 14.2+ KB\n"
     ]
    }
   ],
   "source": [
    "df.info()"
   ]
  },
  {
   "cell_type": "code",
   "execution_count": 5,
   "id": "40da0160",
   "metadata": {},
   "outputs": [
    {
     "data": {
      "text/plain": [
       "Review    0\n",
       "Liked     0\n",
       "dtype: int64"
      ]
     },
     "execution_count": 5,
     "metadata": {},
     "output_type": "execute_result"
    }
   ],
   "source": [
    "df.isnull().sum()"
   ]
  },
  {
   "cell_type": "code",
   "execution_count": 6,
   "id": "7daee8db",
   "metadata": {},
   "outputs": [],
   "source": [
    "from nltk.stem import PorterStemmer\n",
    "from nltk.stem import WordNetLemmatizer\n"
   ]
  },
  {
   "cell_type": "code",
   "execution_count": 7,
   "id": "341fcfa4",
   "metadata": {},
   "outputs": [
    {
     "data": {
      "text/html": [
       "<div>\n",
       "<style scoped>\n",
       "    .dataframe tbody tr th:only-of-type {\n",
       "        vertical-align: middle;\n",
       "    }\n",
       "\n",
       "    .dataframe tbody tr th {\n",
       "        vertical-align: top;\n",
       "    }\n",
       "\n",
       "    .dataframe thead th {\n",
       "        text-align: right;\n",
       "    }\n",
       "</style>\n",
       "<table border=\"1\" class=\"dataframe\">\n",
       "  <thead>\n",
       "    <tr style=\"text-align: right;\">\n",
       "      <th></th>\n",
       "      <th>Review</th>\n",
       "    </tr>\n",
       "  </thead>\n",
       "  <tbody>\n",
       "    <tr>\n",
       "      <th>0</th>\n",
       "      <td>Wow... Loved this place.</td>\n",
       "    </tr>\n",
       "    <tr>\n",
       "      <th>1</th>\n",
       "      <td>Crust is not good.</td>\n",
       "    </tr>\n",
       "    <tr>\n",
       "      <th>2</th>\n",
       "      <td>Not tasty and the texture was just nasty.</td>\n",
       "    </tr>\n",
       "    <tr>\n",
       "      <th>3</th>\n",
       "      <td>Stopped by during the late May bank holiday of...</td>\n",
       "    </tr>\n",
       "    <tr>\n",
       "      <th>4</th>\n",
       "      <td>The selection on the menu was great and so wer...</td>\n",
       "    </tr>\n",
       "    <tr>\n",
       "      <th>...</th>\n",
       "      <td>...</td>\n",
       "    </tr>\n",
       "    <tr>\n",
       "      <th>895</th>\n",
       "      <td>I want to first say our server was great and w...</td>\n",
       "    </tr>\n",
       "    <tr>\n",
       "      <th>896</th>\n",
       "      <td>The pizza selections are good.</td>\n",
       "    </tr>\n",
       "    <tr>\n",
       "      <th>897</th>\n",
       "      <td>I had strawberry tea, which was good.</td>\n",
       "    </tr>\n",
       "    <tr>\n",
       "      <th>898</th>\n",
       "      <td>Highly unprofessional and rude to a loyal patron!</td>\n",
       "    </tr>\n",
       "    <tr>\n",
       "      <th>899</th>\n",
       "      <td>Overall, a great experience.</td>\n",
       "    </tr>\n",
       "  </tbody>\n",
       "</table>\n",
       "<p>900 rows × 1 columns</p>\n",
       "</div>"
      ],
      "text/plain": [
       "                                                Review\n",
       "0                             Wow... Loved this place.\n",
       "1                                   Crust is not good.\n",
       "2            Not tasty and the texture was just nasty.\n",
       "3    Stopped by during the late May bank holiday of...\n",
       "4    The selection on the menu was great and so wer...\n",
       "..                                                 ...\n",
       "895  I want to first say our server was great and w...\n",
       "896                     The pizza selections are good.\n",
       "897              I had strawberry tea, which was good.\n",
       "898  Highly unprofessional and rude to a loyal patron!\n",
       "899                       Overall, a great experience.\n",
       "\n",
       "[900 rows x 1 columns]"
      ]
     },
     "execution_count": 7,
     "metadata": {},
     "output_type": "execute_result"
    }
   ],
   "source": [
    "X=pd.DataFrame(df[\"Review\"])\n",
    "X"
   ]
  },
  {
   "cell_type": "code",
   "execution_count": 8,
   "id": "78353e2e",
   "metadata": {},
   "outputs": [],
   "source": [
    "stemmer=PorterStemmer()\n",
    "lm=WordNetLemmatizer()"
   ]
  },
  {
   "cell_type": "code",
   "execution_count": 9,
   "id": "f10d2993",
   "metadata": {},
   "outputs": [],
   "source": [
    "import re\n",
    "corpus=[]\n",
    "for i in range(len(X)):\n",
    "    review=re.sub(r\"[^A-Za-z]\",\" \",X[\"Review\"][i])\n",
    "    review=review.lower()\n",
    "    review= review.split(\" \")\n",
    "    review=[lm.lemmatize(word) for word in review if word not  in stopwords.words(\"english\")]\n",
    "    review=\" \".join(review)\n",
    "    corpus.append(review)\n",
    "    "
   ]
  },
  {
   "cell_type": "code",
   "execution_count": 10,
   "id": "d952dcfd",
   "metadata": {},
   "outputs": [
    {
     "data": {
      "text/plain": [
       "['wow    loved place ',\n",
       " 'crust good ',\n",
       " 'tasty texture nasty ',\n",
       " 'stopped late may bank holiday rick steve recommendation loved ',\n",
       " 'selection menu great price ',\n",
       " 'getting angry want damn pho ',\n",
       " 'honeslty taste fresh  ',\n",
       " 'potato like rubber could tell made ahead time kept warmer ',\n",
       " 'fry great ',\n",
       " 'great touch ',\n",
       " 'service prompt ',\n",
       " 'would go back ',\n",
       " 'cashier care ever say still ended wayyy overpriced ',\n",
       " 'tried cape cod ravoli  chicken  cranberry   mmmm ',\n",
       " 'disgusted pretty sure human hair ',\n",
       " 'shocked sign indicate cash ',\n",
       " 'highly recommended ',\n",
       " 'waitress little slow service ',\n",
       " 'place worth time  let alone vega ',\n",
       " 'like ',\n",
       " 'burrittos blah ',\n",
       " 'food  amazing ',\n",
       " 'service also cute ',\n",
       " 'could care le    interior beautiful ',\n",
       " 'performed ',\n",
       " 'right    red velvet cake     ohhh stuff good ',\n",
       " '  never brought salad asked ',\n",
       " 'hole wall great mexican street taco  friendly staff ',\n",
       " 'took hour get food   table restaurant food luke warm  sever running around like totally overwhelmed ',\n",
       " 'worst salmon sashimi ',\n",
       " 'also combo like burger  fry  beer    decent deal ',\n",
       " 'like final blow ',\n",
       " 'found place accident could happier ',\n",
       " 'seems like good quick place grab bite familiar pub food  favor look elsewhere ',\n",
       " 'overall  like place lot ',\n",
       " 'redeeming quality restaurant inexpensive ',\n",
       " 'ample portion good price ',\n",
       " 'poor service  waiter made feel like stupid every time came table ',\n",
       " 'first visit hiro delight ',\n",
       " 'service suck ',\n",
       " 'shrimp tender moist ',\n",
       " 'deal good enough would drag establishment ',\n",
       " 'hard judge whether side good grossed melted styrofoam want eat fear getting sick ',\n",
       " 'positive note  server attentive provided great service ',\n",
       " 'frozen puck disgust  worst people behind register ',\n",
       " 'thing like prime rib dessert section ',\n",
       " 'bad food damn generic ',\n",
       " 'burger good beef  cooked right ',\n",
       " 'want sandwich go firehouse     ',\n",
       " 'side greek salad greek dressing tasty  pita hummus refreshing ',\n",
       " 'ordered duck rare pink tender inside nice char outside ',\n",
       " 'came running u realized husband left sunglass table ',\n",
       " 'chow mein good ',\n",
       " 'horrible attitude towards customer  talk one customer enjoy food ',\n",
       " 'portion huge ',\n",
       " 'loved   friendly server  great food  wonderful imaginative menu ',\n",
       " 'heart attack grill downtown vega absolutely flat lined excuse restaurant ',\n",
       " 'much seafood like   string pasta bottom ',\n",
       " 'salad right amount sauce power scallop  perfectly cooked ',\n",
       " 'ripped banana ripped  petrified tasteless ',\n",
       " 'least think refill water struggle wave    minute ',\n",
       " 'place receives star appetizer   ',\n",
       " 'cocktail handmade delicious ',\n",
       " 'definitely go back ',\n",
       " 'glad found place ',\n",
       " 'great food service  huge portion give military discount ',\n",
       " 'always great time do gringo ',\n",
       " 'update     went back second time still amazing',\n",
       " 'got food apparently never heard salt batter fish chewy ',\n",
       " 'great way finish great ',\n",
       " 'deal included   tasting   drink  jeff went beyond expected ',\n",
       " '  really  really good rice  time ',\n",
       " 'service meh ',\n",
       " 'took    min get milkshake  nothing chocolate milk ',\n",
       " 'guess known place would suck  inside excalibur  use common sense ',\n",
       " 'scallop dish quite appalling value well ',\n",
       " '  time   bad customer service  ',\n",
       " 'sweet potato fry good seasoned well ',\n",
       " 'today second time lunch buffet pretty good ',\n",
       " 'much good food vega feel cheated wasting eating opportunity going rice company ',\n",
       " 'coming like experiencing underwhelming relationship party wait person ask break ',\n",
       " 'walked place smelled like old grease trap   others eating ',\n",
       " 'turkey roast beef bland ',\n",
       " 'place ',\n",
       " 'pan cake everyone raving taste like sugary disaster tailored palate six year old ',\n",
       " 'love pho spring roll oh yummy try ',\n",
       " 'poor batter meat ratio made chicken tender unsatisfying ',\n",
       " 'say food amazing   ',\n",
       " 'omelet die ',\n",
       " 'everything fresh delicious ',\n",
       " 'summary  largely disappointing dining experience ',\n",
       " 'like really sexy party mouth  outrageously flirting hottest person party ',\n",
       " 'never hard rock casino  never ever step forward ',\n",
       " 'best breakfast buffet   ',\n",
       " 'say bye bye tip lady ',\n",
       " 'never go ',\n",
       " 'back ',\n",
       " 'food arrived quickly ',\n",
       " 'good ',\n",
       " 'side  cafe serf really good food ',\n",
       " 'server fantastic found wife love roasted garlic bone marrow  added extra meal another marrow go ',\n",
       " 'good thing waiter  helpful kept bloddy mary coming ',\n",
       " 'best buffet town  price cannot beat ',\n",
       " 'loved mussel cooked wine reduction  duck tender  potato dish delicious ',\n",
       " 'one better buffet ',\n",
       " 'went tigerlilly fantastic afternoon ',\n",
       " 'food delicious  bartender attentive personable got great deal ',\n",
       " 'ambience wonderful music playing ',\n",
       " 'go back next trip ',\n",
       " 'sooooo good  ',\n",
       " 'real sushi lover  let honest   yama good ',\n",
       " 'least   min passed u ordering food arriving  busy ',\n",
       " 'really fantastic thai restaurant definitely worth visit ',\n",
       " 'nice  spicy tender ',\n",
       " 'good price ',\n",
       " 'check ',\n",
       " 'pretty gross ',\n",
       " 'better atmosphere ',\n",
       " 'kind hard mess steak ',\n",
       " 'although much liked look sound place  actual experience bit disappointing ',\n",
       " 'know place managed served blandest food ever eaten preparing indian cuisine ',\n",
       " 'worst service boot  least worry ',\n",
       " 'service fine waitress friendly ',\n",
       " 'guy steak  steak loving son steak best worst place said best steak ever eaten ',\n",
       " 'thought venture away get good sushi  place really hit spot night ',\n",
       " 'host staff  lack better word  bitch ',\n",
       " 'bland    liking place number reason want waste time bad reviewing   leave   ',\n",
       " 'phenomenal food  service ambiance ',\n",
       " 'return ',\n",
       " 'definitely worth venturing strip pork belly  return next time vega ',\n",
       " 'place way overpriced mediocre food ',\n",
       " 'penne vodka excellent ',\n",
       " 'good selection food including massive meatloaf sandwich  crispy chicken wrap  delish tuna melt tasty burger ',\n",
       " 'management rude ',\n",
       " 'delicious nyc bagel  good selection cream cheese  real lox caper even ',\n",
       " 'great subway  fact good come every subway meet expectation ',\n",
       " 'seriously solid breakfast ',\n",
       " 'one best bar food vega ',\n",
       " 'extremely rude really  many restaurant would love dine weekend vega ',\n",
       " 'drink never empty made really great menu suggestion ',\n",
       " '   ',\n",
       " 'waiter helpful friendly rarely checked u ',\n",
       " 'husband ate lunch disappointed food service ',\n",
       " 'red curry much bamboo shoot tasty ',\n",
       " 'nice blanket moz top feel like done cover subpar food ',\n",
       " 'bathroom clean place well decorated ',\n",
       " 'menu always changing  food quality going   service extremely slow ',\n",
       " 'service little slow   considering served   people server food coming slow pace ',\n",
       " 'give   thumb',\n",
       " 'watched waiter pay lot attention table ignore u ',\n",
       " 'fianc  came middle day greeted seated right away ',\n",
       " 'great restaurant mandalay bay ',\n",
       " 'waited forty five minute vain ',\n",
       " 'crostini came salad stale ',\n",
       " 'highlight   great quality nigiri ',\n",
       " 'staff friendly joint always clean ',\n",
       " 'different cut piece day still wonderful tender well well flavored ',\n",
       " 'ordered voodoo pasta first time really excellent pasta since going gluten free several year ago ',\n",
       " 'place good ',\n",
       " 'unfortunately  must hit bakery leftover day everything ordered stale ',\n",
       " 'came back today since relocated still impressed ',\n",
       " 'seated immediately ',\n",
       " 'menu diverse  reasonably priced ',\n",
       " 'avoid cost ',\n",
       " 'restaurant always full never wait ',\n",
       " 'delicious  ',\n",
       " 'place hand one best place eat phoenix metro area ',\n",
       " 'go looking good food   ',\n",
       " 'never treated bad ',\n",
       " 'bacon hella salty ',\n",
       " 'also ordered spinach avocado salad  ingredient sad dressing literally zero taste ',\n",
       " 'really vega fine dining used  right menu handed lady price listed ',\n",
       " 'waitress friendly ',\n",
       " 'lordy  khao soi dish missed curry lover ',\n",
       " 'everything menu terrific also thrilled made amazing accommodation vegetarian daughter ',\n",
       " 'perhaps caught night judging review  inspired go back ',\n",
       " 'service leaf lot desired ',\n",
       " 'atmosphere modern hip  maintaining touch coziness ',\n",
       " 'weekly haunt  definitely place come back every ',\n",
       " 'literally sat    minute one asking take order ',\n",
       " 'burger absolutely flavor   meat totally bland  burger overcooked charcoal flavor ',\n",
       " 'also decided send back waitress looked like verge heart attack ',\n",
       " 'dressed treated rudely ',\n",
       " 'probably dirt ',\n",
       " 'love place  hit spot want something healthy lacking quantity flavor ',\n",
       " 'ordered lemon raspberry ice cocktail also incredible ',\n",
       " 'food sucked  expected sucked could imagined ',\n",
       " 'interesting decor ',\n",
       " 'really like crepe station ',\n",
       " 'also served hot bread butter  home made potato chip bacon bit top    original good ',\n",
       " 'watch preparing delicious food  ',\n",
       " 'egg roll fantastic ',\n",
       " 'order arrived  one gyro missing ',\n",
       " 'salad wing  ice cream dessert left feeling quite satisfied ',\n",
       " 'really sure joey voted best hot dog valley reader phoenix magazine ',\n",
       " 'best place go tasty bowl pho ',\n",
       " 'live music friday totally blow ',\n",
       " 'never insulted felt disrespected ',\n",
       " 'friendly staff ',\n",
       " 'worth drive ',\n",
       " 'heard good thing place  exceeding every hope could dreamed ',\n",
       " 'food great serivce ',\n",
       " 'warm beer help ',\n",
       " 'great brunch spot ',\n",
       " 'service friendly inviting ',\n",
       " 'good lunch spot ',\n",
       " 'lived since      first  last  time stepped foot place ',\n",
       " 'worst experience ever ',\n",
       " 'must night place ',\n",
       " 'side delish   mixed mushroom  yukon gold puree  white corn   beateous ',\n",
       " 'bug never showed would given   sure  side wall bug climbing kitchen ',\n",
       " '   minute  waiting salad realized coming time soon ',\n",
       " 'friend loved salmon tartar ',\n",
       " 'go back ',\n",
       " 'extremely tasty ',\n",
       " 'waitress good though ',\n",
       " 'soggy good ',\n",
       " 'jamaican mojitos delicious ',\n",
       " 'small worth price ',\n",
       " '  food rich order accordingly ',\n",
       " 'shower area outside rinse  take full shower  unless mind nude everyone see ',\n",
       " 'service bit lacking ',\n",
       " 'lobster bisque  bussell sprout  risotto  filet needed salt pepper  course none table ',\n",
       " 'hopefully bodes going business someone cook come ',\n",
       " 'either cold  enough flavor bad ',\n",
       " 'loved bacon wrapped date ',\n",
       " 'unbelievable bargain ',\n",
       " 'folk otto always make u feel welcome special ',\n",
       " ' main   also uninspired ',\n",
       " 'place first pho amazing  ',\n",
       " 'wonderful experience made place must stop whenever town ',\n",
       " 'food bad enough  enjoy dealing world worst annoying drunk people ',\n",
       " 'fun chef ',\n",
       " 'ordered double cheeseburger   got single patty falling apart  picture uploaded  yeah  still suck ',\n",
       " 'great place couple drink watch sporting event wall covered tv ',\n",
       " 'possible give zero star  ',\n",
       " 'description said  yum yum sauce  another said  eel sauce   yet another said  spicy mayo    well none roll sauce ',\n",
       " 'say would hardest decision    honestly  dish taste supposed taste  amazing  ',\n",
       " 'rolled eye may stayed    sure go back try ',\n",
       " 'everyone attentive  providing excellent customer service ',\n",
       " 'horrible   waste time money ',\n",
       " 'dish quite flavourful ',\n",
       " 'time side restaurant almost empty excuse ',\n",
       " ' busy either  also  building freezing cold ',\n",
       " 'like reviewer said  pay eat place  ',\n",
       " ' drink took close    minute come one point ',\n",
       " 'seriously flavorful delight  folk ',\n",
       " 'much better ayce sushi place went vega ',\n",
       " 'lighting dark enough set mood ',\n",
       " 'based sub par service received effort show gratitude business going back ',\n",
       " 'owner really great people  ',\n",
       " 'nothing privileged working eating ',\n",
       " 'greek dressing creamy flavorful ',\n",
       " 'overall  think would take parent place made similar complaint silently felt ',\n",
       " 'pizza good peanut sauce tasty ',\n",
       " '  table service pretty fast ',\n",
       " 'fantastic service ',\n",
       " 'well would given godfather zero star possible ',\n",
       " 'know make ',\n",
       " 'tough short flavor ',\n",
       " 'hope place stick around ',\n",
       " 'bar vega  ever recall charged tap water ',\n",
       " 'restaurant atmosphere exquisite ',\n",
       " 'good service  clean  inexpensive  boot ',\n",
       " 'seafood fresh generous portion ',\n",
       " 'plus    buck ',\n",
       " 'service par  either ',\n",
       " 'thus far  visited twice food absolutely delicious time ',\n",
       " 'good year ago ',\n",
       " 'self proclaimed coffee cafe  wildly disappointed ',\n",
       " 'veggitarian platter world ',\n",
       " 'cant go wrong food ',\n",
       " 'beat ',\n",
       " 'stopped place madison ironman  friendly  kind staff ',\n",
       " 'chef friendly good job ',\n",
       " 'better  dedicated boba tea spot  even jenni pho ',\n",
       " 'liked patio service outstanding ',\n",
       " 'goat taco skimp meat wow flavor ',\n",
       " 'think',\n",
       " 'mac salad pretty bland getting ',\n",
       " 'went bachi burger friend recommendation disappointed ',\n",
       " 'service stink ',\n",
       " 'waited waited ',\n",
       " 'place quality sushi  quality restaurant ',\n",
       " 'would definitely recommend wing well pizza ',\n",
       " 'great pizza salad ',\n",
       " 'thing went wrong    burned saganaki ',\n",
       " 'waited hour breakfast could done     time better home ',\n",
       " 'place amazing ',\n",
       " 'hate disagree fellow yelpers  husband disappointed place ',\n",
       " 'waited   hour   never got either pizza many around u came later ',\n",
       " 'know slow ',\n",
       " 'staff great  food delish  incredible beer selection ',\n",
       " 'live neighborhood disappointed back  convenient location ',\n",
       " 'know pulled pork could soooo delicious ',\n",
       " 'get incredibly fresh fish  prepared care ',\n",
       " 'go gave   star rating please know third time eating bachi burger writing review ',\n",
       " 'love fact everything menu worth ',\n",
       " 'never dining place ',\n",
       " 'food excellent service good ',\n",
       " 'good beer   drink selection good food selection ',\n",
       " 'please stay away shrimp stir fried noodle ',\n",
       " 'potato chip order sad    could probably count many chip box probably around    ',\n",
       " 'food really boring ',\n",
       " 'good service check ',\n",
       " 'greedy corporation never see another dime ',\n",
       " 'never  ever go back ',\n",
       " 'much like go back  get passed atrocious service never return ',\n",
       " 'summer  dine charming outdoor patio   delightful ',\n",
       " 'expect good ',\n",
       " 'fantastic food ',\n",
       " 'ordered toasted english muffin came untoasted ',\n",
       " 'food good ',\n",
       " 'never going back ',\n",
       " 'great food price  high quality house made ',\n",
       " 'bus boy hand rude ',\n",
       " 'point  friend basically figured place joke mind making publicly loudly known ',\n",
       " 'back good bbq  lighter fare  reasonable pricing tell public back old way ',\n",
       " 'considering two u left full happy      go wrong ',\n",
       " 'bread made house ',\n",
       " 'downside service ',\n",
       " 'also  fry without doubt worst fry ever ',\n",
       " 'service exceptional food good review ',\n",
       " 'couple month later  returned amazing meal ',\n",
       " 'favorite place town shawarrrrrrma      ',\n",
       " 'black eyed pea sweet potato    unreal ',\n",
       " 'disappointed ',\n",
       " 'could serve vinaigrette may make better overall dish  still good ',\n",
       " 'go far many place never seen restaurant serf   egg breakfast  especially       ',\n",
       " 'mom got home immediately got sick bite salad ',\n",
       " 'server pleasant deal always honor pizza hut coupon ',\n",
       " 'truly unbelievably good  glad went back ',\n",
       " 'fantastic service  pleased atmosphere ',\n",
       " 'everything gross ',\n",
       " 'love place ',\n",
       " 'great service food ',\n",
       " 'first   bathroom location dirty  seat cover replenished   plain yucky   ',\n",
       " 'burger    got  gold standard      burger kind disappointed ',\n",
       " 'omg  food delicioso ',\n",
       " 'nothing authentic place ',\n",
       " 'spaghetti nothing special whatsoever ',\n",
       " 'dish  salmon best  great ',\n",
       " 'vegetable fresh sauce feel like authentic thai ',\n",
       " 'worth driving tucson ',\n",
       " 'selection probably worst seen vega     none ',\n",
       " 'pretty good beer selection ',\n",
       " 'place like chipotle  better ',\n",
       " 'classy warm atmosphere  fun fresh appetizer  succulent steak  baseball steak     ',\n",
       " '  star brick oven bread app ',\n",
       " 'eaten multiple time  time food delicious ',\n",
       " 'sat another ten minute finally gave left ',\n",
       " 'terrible ',\n",
       " 'everyone treated equally special ',\n",
       " 'take    min pancake egg ',\n",
       " 'delicious   ',\n",
       " 'good side  staff genuinely pleasant enthusiastic   real treat ',\n",
       " 'sadly  gordon ramsey steak place shall sharply avoid next trip vega ',\n",
       " 'always evening wonderful food delicious ',\n",
       " 'best fish ever life ',\n",
       " ' bathroom next door nice  ',\n",
       " 'buffet small food offered bland ',\n",
       " 'outstanding little restaurant best food ever tasted ',\n",
       " 'pretty cool would say ',\n",
       " 'definitely turn   doubt back unless someone else buying ',\n",
       " 'server great job handling large rowdy table ',\n",
       " 'find wasting food despicable  food ',\n",
       " 'wife lobster bisque soup lukewarm ',\n",
       " 'would come back sushi craving vega ',\n",
       " 'staff great  ambiance great ',\n",
       " 'deserves   star ',\n",
       " 'left stomach ache felt sick rest day ',\n",
       " 'dropped ball ',\n",
       " 'dining space tiny  elegantly decorated comfortable ',\n",
       " 'customize order way like  usual eggplant green bean stir fry  love ',\n",
       " 'bean rice mediocre best ',\n",
       " 'best taco town far  ',\n",
       " 'took back money got outta ',\n",
       " 'interesting part town  place amazing ',\n",
       " 'rude   inconsiderate management ',\n",
       " 'staff friendly  wait time served horrible  one even say hi first    minute ',\n",
       " 'back ',\n",
       " 'great dinner ',\n",
       " 'service outshining   definitely recommend halibut ',\n",
       " 'food terrible ',\n",
       " 'never ever go back told many people happened ',\n",
       " 'recommend unless car break front starving ',\n",
       " 'come back every time vega ',\n",
       " 'place deserves one star     food ',\n",
       " 'disgrace ',\n",
       " 'def coming back bowl next time',\n",
       " 'want healthy authentic ethic food  try place ',\n",
       " 'continue come lady night andddd date night     highly recommend place anyone area ',\n",
       " 'several time past  experience always great ',\n",
       " 'walked away stuffed happy first vega buffet experience ',\n",
       " 'service excellent price pretty reasonable considering vega located inside crystal shopping mall aria ',\n",
       " 'summarize    food incredible  nay  transcendant    nothing brings joy quite like memory pneumatic condiment dispenser ',\n",
       " 'probably one people ever go ians like ',\n",
       " 'kid pizza always hit lot great side dish option kiddos ',\n",
       " 'service perfect family atmosphere nice see ',\n",
       " 'cooked perfection service impeccable ',\n",
       " 'one simply disappointment ',\n",
       " 'overall  disappointed quality food bouchon ',\n",
       " 'accountant know getting screwed ',\n",
       " 'great place eat  reminds little mom pop shop san francisco bay area ',\n",
       " 'today first taste buldogis gourmet hot dog tell ever thought possible ',\n",
       " 'left frustrated ',\n",
       " 'definitely soon ',\n",
       " 'food really good got full petty fast ',\n",
       " 'service fantastic ',\n",
       " 'total waste time ',\n",
       " 'know kind best iced tea ',\n",
       " 'come hungry  leave happy stuffed ',\n",
       " 'service  give star ',\n",
       " 'assure disappointed ',\n",
       " 'take little bad service food suck ',\n",
       " 'gave trying eat crust  teeth still sore  ',\n",
       " 'completely grossed ',\n",
       " 'really enjoyed eating ',\n",
       " 'first time going think quickly become regular ',\n",
       " 'server nice  even though looked little overwhelmed need  stayed professional friendly end ',\n",
       " 'dinner companion told   everything fresh nice texture taste ',\n",
       " 'ground  right next table large  smeared  stepped tracked everywhere pile green bird poop ',\n",
       " 'furthermore  even find hour operation website ',\n",
       " 'tried like place     time think done ',\n",
       " 'mistake ',\n",
       " 'complaint ',\n",
       " 'seriously good pizza expert connisseur topic ',\n",
       " 'waiter jerk ',\n",
       " 'strike    want rushed ',\n",
       " 'nicest restaurant owner ever come across ',\n",
       " 'never come ',\n",
       " 'loved biscuit   ',\n",
       " 'service quick friendly ',\n",
       " 'ordered appetizer took    minute pizza another    minute ',\n",
       " 'absolutley fantastic ',\n",
       " 'huge awkward    lb piece cow    th gristle fat ',\n",
       " 'definitely come back ',\n",
       " 'like steiner dark feel like bar ',\n",
       " 'wow spicy delicious ',\n",
       " 'familiar  check ',\n",
       " 'take business dinner dollar elsewhere ',\n",
       " 'love go back ',\n",
       " 'anyway  f restaurant wonderful breakfast lunch ',\n",
       " 'nothing special ',\n",
       " 'day week different deal delicious ',\n",
       " 'mention combination pear  almond bacon big winner ',\n",
       " 'back ',\n",
       " 'sauce tasteless ',\n",
       " 'food delicious spicy enough  sure ask spicier prefer way ',\n",
       " 'ribeye steak cooked perfectly great mesquite flavor ',\n",
       " 'think going back anytime soon ',\n",
       " 'food gooodd ',\n",
       " 'far sushi connoisseur definitely tell difference good food bad food certainly bad food ',\n",
       " 'insulted ',\n",
       " 'last   time lunch bad ',\n",
       " 'chicken wing contained driest chicken meat ever eaten ',\n",
       " 'food good enjoyed every mouthful  enjoyable relaxed venue couple small family group etc ',\n",
       " 'nargile   think great ',\n",
       " 'best tater tot southwest ',\n",
       " 'loved place ',\n",
       " 'definitely worth    paid ',\n",
       " 'vanilla ice cream creamy smooth profiterole  chou  pastry fresh enough ',\n",
       " 'im az time new spot ',\n",
       " 'manager worst ',\n",
       " 'inside really quite nice clean ',\n",
       " 'food outstanding price reasonable ',\n",
       " 'think running back carly anytime soon food ',\n",
       " 'due fact took    minute acknowledged  another    minute get food   kept forgetting thing ',\n",
       " 'love margarita  ',\n",
       " 'first vega buffet disappoint ',\n",
       " 'good  though ',\n",
       " 'one note ventilation could use upgrading ',\n",
       " 'great pork sandwich ',\n",
       " 'waste time ',\n",
       " 'total letdown  would much rather go camelback flower shop cartel coffee ',\n",
       " 'third  cheese friend burger cold ',\n",
       " 'enjoy pizza brunch ',\n",
       " 'steak well trimmed also perfectly cooked ',\n",
       " 'group     claimed would    handled u beautifully ',\n",
       " 'loved ',\n",
       " 'asked bill leave without eating bring either ',\n",
       " 'place jewel la vega  exactly hoping find nearly ten year living ',\n",
       " 'seafood limited boiled shrimp crab leg crab leg definitely taste fresh ',\n",
       " 'selection food best ',\n",
       " 'delicious absolutely back ',\n",
       " 'small family restaurant  fine dining establishment ',\n",
       " 'toro tartare cavier extraordinary liked thinly sliced wagyu white truffle ',\n",
       " 'dont think back long time ',\n",
       " 'attached gas station  rarely good sign ',\n",
       " 'awesome ',\n",
       " 'back many time soon ',\n",
       " 'menu much good stuff could decide ',\n",
       " 'worse  humiliated worker right front  bunch horrible name calling ',\n",
       " 'conclusion  filling meal ',\n",
       " 'daily special always hit group ',\n",
       " 'tragedy struck ',\n",
       " 'pancake also really good pretty large ',\n",
       " 'first crawfish experience  delicious ',\n",
       " 'monster chicken fried steak egg time favorite ',\n",
       " 'waitress sweet funny ',\n",
       " 'also taste mom multi grain pumpkin pancake pecan butter amazing  fluffy  delicious ',\n",
       " 'rather eat airline food  seriously ',\n",
       " 'cant say enough good thing place ',\n",
       " 'ambiance incredible ',\n",
       " 'waitress manager friendly ',\n",
       " 'would recommend place ',\n",
       " 'overall impressed noca ',\n",
       " 'gyro basically lettuce ',\n",
       " 'terrible service ',\n",
       " 'thoroughly disappointed ',\n",
       " 'much pasta  love homemade  hand made pasta thin pizza ',\n",
       " 'give try  happy ',\n",
       " 'far best cheesecurds ever ',\n",
       " 'reasonably priced also ',\n",
       " 'everything perfect night ',\n",
       " 'food good typical bar food ',\n",
       " 'drive get ',\n",
       " 'first glance lovely bakery cafe   nice ambiance  clean  friendly staff ',\n",
       " 'anyway  think go back ',\n",
       " 'point finger item menu  order disappointed ',\n",
       " 'oh thing beauty  restaurant ',\n",
       " 'gone go ',\n",
       " 'greasy  unhealthy meal ',\n",
       " 'first time might last ',\n",
       " 'burger amazing ',\n",
       " 'similarly  delivery man say word apology food    minute late ',\n",
       " 'way expensive ',\n",
       " 'sure order dessert  even need pack go   tiramisu cannoli die ',\n",
       " 'first time wait next ',\n",
       " 'bartender also nice ',\n",
       " 'everything good tasty ',\n",
       " 'place two thumb    way ',\n",
       " 'best place vega breakfast  check sat  sun ',\n",
       " 'love authentic mexican food want whole bunch interesting  yet delicious meat choose  need try place ',\n",
       " 'terrible management ',\n",
       " 'excellent new restaurant experienced frenchman ',\n",
       " 'zero star would give zero star ',\n",
       " 'great steak  great side  great wine  amazing dessert ',\n",
       " 'worst martini ever ',\n",
       " 'steak shrimp opinion best entree gc ',\n",
       " 'opportunity today sample amazing pizza ',\n",
       " 'waited thirty minute seated  although   vacant table folk waiting  ',\n",
       " 'yellowtail carpaccio melt mouth fresh ',\n",
       " 'try going back even empty ',\n",
       " ' going eat potato found stranger hair ',\n",
       " 'spicy enough   perfect actually ',\n",
       " 'last night second time dining happy decided go back ',\n",
       " 'even  hello  right  ',\n",
       " 'dessert bit strange ',\n",
       " 'boyfriend came first time recent trip vega could pleased quality food service ',\n",
       " 'really recommend place  go wrong donut place ',\n",
       " 'nice ambiance ',\n",
       " 'would recommend saving room ',\n",
       " 'guess maybe went night disgraceful ',\n",
       " 'however  recent experience particular location good ',\n",
       " 'know like restaurant  something ',\n",
       " 'avoid establishment ',\n",
       " 'think restaurant suffers trying hard enough ',\n",
       " 'tapa dish delicious ',\n",
       " ' heart  place ',\n",
       " 'salad bland vinegrette baby green heart palm ',\n",
       " 'two felt disgusting ',\n",
       " 'good time ',\n",
       " 'believe place great stop huge belly hankering sushi ',\n",
       " 'generous portion great taste ',\n",
       " 'never go back place never ever recommended place anyone ',\n",
       " 'server went back forth several time  even much  helped  ',\n",
       " 'food delicious ',\n",
       " 'hour    seriously ',\n",
       " 'consider theft ',\n",
       " 'eew    location need complete overhaul ',\n",
       " 'recently witnessed poor quality management towards guest well ',\n",
       " 'waited waited waited ',\n",
       " 'also came back check u regularly  excellent service ',\n",
       " 'server super nice checked u many time ',\n",
       " 'pizza tasted old  super chewy good way ',\n",
       " 'swung give try deeply disappointed ',\n",
       " 'service good company better ',\n",
       " 'staff also friendly efficient ',\n",
       " 'service  fan  quick served nice folk ',\n",
       " 'boy sucker dry   ',\n",
       " 'rated ',\n",
       " 'look authentic thai food  go else ',\n",
       " 'steak      recommended ',\n",
       " 'pulled car waited another    minute acknowledged ',\n",
       " 'great food great service clean friendly setting ',\n",
       " ' assure back ',\n",
       " 'hate thing much cheap quality black olive ',\n",
       " 'breakfast perpared great  beautiful presentation   giant slice toast  lightly dusted powdered sugar ',\n",
       " 'kid play area nasty ',\n",
       " 'great place fo take eat ',\n",
       " 'waitress friendly happy accomodate vegan veggie option ',\n",
       " 'omg felt like never eaten thai food dish ',\n",
       " 'extremely  crumby  pretty tasteless ',\n",
       " 'pale color instead nice char flavor ',\n",
       " 'crouton also taste homemade extra plus ',\n",
       " 'got home see driest damn wing ever ',\n",
       " 'regular stop trip phoenix ',\n",
       " 'really enjoyed crema caf  expanded  even told friend best breakfast ',\n",
       " 'good money ',\n",
       " 'miss wish one philadelphia ',\n",
       " 'got sitting fairly fast   ended waiting    minute place order  another    minute food arrived ',\n",
       " 'also best cheese crisp town ',\n",
       " 'good value  great food  great service ',\n",
       " 'ask satisfying meal ',\n",
       " 'food good ',\n",
       " 'awesome ',\n",
       " 'wanted leave ',\n",
       " 'made drive way north scottsdale    one bit disappointed ',\n",
       " 'eating ',\n",
       " '     owner really really need quit soooooo cheap let wrap freaking sandwich two paper one ',\n",
       " 'checked place couple year ago impressed ',\n",
       " 'chicken got definitely reheated ok  wedge cold soggy ',\n",
       " 'sorry  getting food anytime soon   ',\n",
       " 'absolute must visit ',\n",
       " 'cow tongue cheek taco amazing ',\n",
       " 'friend like bloody mary ',\n",
       " 'despite hard rate business  actually rare give   star ',\n",
       " 'really want make experience good one ',\n",
       " 'return ',\n",
       " 'chicken pho tasted bland ',\n",
       " 'disappointing   ',\n",
       " 'grilled chicken tender yellow saffron seasoning ',\n",
       " 'drive thru mean want wait around half hour food  somehow end going make u wait wait ',\n",
       " 'pretty awesome place ',\n",
       " 'ambience perfect ',\n",
       " 'best luck rude non customer service focused new management ',\n",
       " 'grandmother make roasted chicken better one ',\n",
       " 'asked multiple time wine list time ignored went hostess got one ',\n",
       " 'staff always super friendly helpful  especially cool bring two small boy baby ',\n",
       " 'four star food   guy blue shirt great vibe   still letting u eat  ',\n",
       " 'roast beef sandwich tasted really good ',\n",
       " 'evening  drastically sick ',\n",
       " 'high quality chicken chicken caesar salad ',\n",
       " 'ordered burger rare came done ',\n",
       " 'promptly greeted seated ',\n",
       " 'tried go lunch madhouse ',\n",
       " 'proven dead wrong sushi bar  quality great  service fast food  impeccable ',\n",
       " 'waiting hour seated  greatest mood ',\n",
       " 'good joint ',\n",
       " 'macarons insanely good ',\n",
       " 'eating ',\n",
       " 'waiter attentive  friendly  informative ',\n",
       " 'maybe cold would somewhat edible ',\n",
       " 'place lot promise fails deliver ',\n",
       " 'bad experience ',\n",
       " 'mistake ',\n",
       " 'food average best ',\n",
       " 'great food ',\n",
       " 'going back anytime soon ',\n",
       " 'disappointed ordered     big bay plater ',\n",
       " 'great place relax awesome burger beer ',\n",
       " 'perfect sit family meal get together friend ',\n",
       " 'much flavor  poorly constructed ',\n",
       " 'patio seating comfortable ',\n",
       " 'fried rice dry well ',\n",
       " 'hand favorite italian restaurant ',\n",
       " 'scream  legit  book   somethat also pretty rare vega ',\n",
       " 'fun experience ',\n",
       " 'atmosphere great lovely duo violinist playing song requested ',\n",
       " 'personally love hummus  pita  baklava  falafel baba ganoush  amazing eggplant   ',\n",
       " 'convenient  since staying mgm ',\n",
       " 'owner super friendly staff courteous ',\n",
       " 'great ',\n",
       " 'eclectic selection ',\n",
       " 'sweet potato tot good onion ring perfection close ',\n",
       " 'staff attentive ',\n",
       " 'chef generous time  even came around twice take picture  ',\n",
       " 'owner used work nobu  place really similar half price ',\n",
       " 'google mediocre imagine smashburger pop ',\n",
       " 'dont go ',\n",
       " 'promise disappoint ',\n",
       " 'sushi lover avoid place mean ',\n",
       " 'great double cheeseburger ',\n",
       " 'awesome service food ',\n",
       " 'fantastic neighborhood gem    ',\n",
       " 'wait go back ',\n",
       " 'plantain worst ever tasted ',\n",
       " 'great place highly recommend ',\n",
       " 'service slow attentive ',\n",
       " 'gave   star  giving   star ',\n",
       " 'staff spends time talking ',\n",
       " 'dessert  panna cotta amazing ',\n",
       " 'good food  great atmosphere  ',\n",
       " 'damn good steak ',\n",
       " 'total brunch fail ',\n",
       " 'price reasonable  flavor spot  sauce home made  slaw drenched mayo ',\n",
       " 'decor nice  piano music soundtrack pleasant ',\n",
       " 'steak amazing   rge fillet relleno best seafood plate ever ',\n",
       " 'good food   good service  ',\n",
       " 'absolutely amazing ',\n",
       " 'probably back  honest ',\n",
       " 'definitely back ',\n",
       " 'sergeant pepper beef sandwich auju sauce excellent sandwich well ',\n",
       " 'hawaiian breeze  mango magic  pineapple delight smoothy tried far good ',\n",
       " 'went lunch   service slow ',\n",
       " 'much say place walked expected amazing  quickly disappointed ',\n",
       " 'mortified ',\n",
       " 'needle say  never back ',\n",
       " 'anyways  food definitely filling  price pay expect ',\n",
       " 'chip came dripping grease  mostly edible ',\n",
       " 'really impressed strip steak ',\n",
       " 'going since      every meal awesome  ',\n",
       " 'server nice attentive serving staff ',\n",
       " 'cashier friendly even brought food ',\n",
       " 'work hospitality industry paradise valley refrained recommending cibo longer ',\n",
       " 'atmosphere fun ',\n",
       " 'would recommend others ',\n",
       " 'service quick even  go  order like like ',\n",
       " 'mean really  get famous fish chip terrible   ',\n",
       " 'said  mouth belly still quite pleased ',\n",
       " 'thing ',\n",
       " '  thumb  ',\n",
       " 'reading please go ',\n",
       " 'loved grilled pizza  reminded legit italian pizza ',\n",
       " 'pro   large seating area  nice bar area  great simple drink menu  best brick oven pizza homemade dough ',\n",
       " 'really nice atmosphere ',\n",
       " 'tonight elk filet special   sucked ',\n",
       " 'one bite  hooked ',\n",
       " 'ordered old classic new dish going time sorely disappointed everything ',\n",
       " 'cute  quaint  simple  honest ',\n",
       " 'chicken deliciously seasoned perfect fry outside moist chicken inside ',\n",
       " 'food great always  compliment chef ',\n",
       " 'special thanks dylan  recommendation order    yummy tummy ',\n",
       " 'awesome selection beer ',\n",
       " 'great food awesome service ',\n",
       " 'one nice thing added gratuity bill since party larger      expect tip ',\n",
       " 'fly apple juice   fly        ',\n",
       " 'han nan chicken also tasty ',\n",
       " 'service  thought good ',\n",
       " 'food barely lukewarm  must sitting waiting server bring u ',\n",
       " 'ryan bar definitely one edinburgh establishment revisiting ',\n",
       " 'nicest chinese restaurant ',\n",
       " 'overall  like food service ',\n",
       " 'also serve indian naan bread hummus spicy pine nut sauce world ',\n",
       " 'probably never coming back  recommend ',\n",
       " 'friend pasta    also bad  barely touched ',\n",
       " 'try airport experience tasty food speedy  friendly service ',\n",
       " 'love decor chinese calligraphy wall paper ',\n",
       " 'never anything complain ',\n",
       " 'restaurant clean family restaurant feel ',\n",
       " 'way fried ',\n",
       " 'sure long stood long enough begin feel awkwardly place ',\n",
       " 'opened sandwich  impressed  good way ',\n",
       " 'back ',\n",
       " 'warm feeling service felt like guest special treat ',\n",
       " 'extensive menu provides lot option breakfast ',\n",
       " 'always order vegetarian menu dinner  wide array option choose ',\n",
       " 'watched price inflate  portion get smaller management attitude grow rapidly ',\n",
       " 'wonderful lil tapa ambience made feel warm fuzzy inside ',\n",
       " 'got enjoy seafood salad  fabulous vinegrette ',\n",
       " 'wonton thin  thick chewy  almost melt mouth ',\n",
       " 'level   spicy perfect  spice whelm soup ',\n",
       " 'sat right time server get go fantastic ',\n",
       " 'main thing enjoy crowd older crowd  around mid   ',\n",
       " 'side town  definitely spot hit ',\n",
       " 'wait    minute get drink longer get   arepas ',\n",
       " 'great place eat ',\n",
       " 'jalapeno bacon soooo good ',\n",
       " 'service poor thats nice ',\n",
       " 'food good  service good  price good ',\n",
       " 'place clean food oh stale ',\n",
       " 'chicken dish ok  beef like shoe leather ',\n",
       " 'service beyond bad ',\n",
       " 'happy    ',\n",
       " 'tasted like dirt ',\n",
       " 'one place phoenix would definately go back  ',\n",
       " 'block amazing ',\n",
       " 'close house  low key  non fancy  affordable price  good food ',\n",
       " '  hot   sour   egg flower soup absolutely   star ',\n",
       " 'sashimi poor quality soggy tasteless ',\n",
       " 'great time   family dinner sunday night ',\n",
       " 'food tasty  say  real traditional hunan style  ',\n",
       " 'bother  slow service ',\n",
       " 'flair bartender absolutely amazing ',\n",
       " 'frozen margarita way sugary taste ',\n",
       " 'good ordered twice ',\n",
       " 'nutshell     restaraunt smell like combination dirty fish market sewer ',\n",
       " 'girlfriend veal bad ',\n",
       " 'unfortunately  good ',\n",
       " 'pretty satifying experience ',\n",
       " 'join club get awesome offer via email ',\n",
       " 'perfect someone   like beer ice cold  case  even colder ',\n",
       " 'bland flavorless good way describing barely tepid meat ',\n",
       " 'chain  fan  beat place easily ',\n",
       " 'nacho must ',\n",
       " 'coming back ',\n",
       " 'many word say place  everything pretty well ',\n",
       " 'staff super nice quick even crazy crowd downtown jury  lawyer  court staff ',\n",
       " 'great atmosphere  friendly fast service ',\n",
       " 'received pita huge lot meat thumb ',\n",
       " 'food arrives meh ',\n",
       " 'paying       hot dog fry look like came kid meal wienerschnitzel idea good meal ',\n",
       " 'classic maine lobster roll fantastic ',\n",
       " 'brother law work mall ate day  guess sick night ',\n",
       " 'good going review place twice   hereas tribute place tribute event held last night ',\n",
       " 'chip salsa really good  salsa fresh ',\n",
       " 'place great              ',\n",
       " 'mediocre food ',\n",
       " 'get inside impressed place ',\n",
       " 'super pissd ',\n",
       " 'service super friendly ',\n",
       " 'sad little vegetable overcooked ',\n",
       " 'place nice surprise ',\n",
       " 'golden crispy delicious ',\n",
       " 'high hope place since burger cooked charcoal grill  unfortunately taste fell flat  way flat ',\n",
       " 'could eat bruschetta day devine ',\n",
       " 'single employee came see ok even needed water refill finally served u food ',\n",
       " 'lastly  mozzarella stick  best thing ordered ',\n",
       " 'first time ever came amazing experience  still tell people awesome duck ',\n",
       " 'server negligent need made u feel unwelcome    would suggest place ',\n",
       " 'service terrible though ',\n",
       " 'place overpriced  consistent boba  really overpriced ',\n",
       " 'packed  ',\n",
       " 'love place ',\n",
       " 'say dessert yummy ',\n",
       " 'food terrible ',\n",
       " 'seasonal fruit fresh white peach puree ',\n",
       " 'kept getting worse worse officially done ',\n",
       " 'place honestly blown ',\n",
       " 'definitely would eat ',\n",
       " 'waste money ',\n",
       " 'love put food nice plastic container opposed cramming little paper takeout box ',\n",
       " 'cr pe delicate thin moist ',\n",
       " 'awful service ',\n",
       " 'ever go ',\n",
       " 'food quality horrible ',\n",
       " 'price think place would much rather gone ',\n",
       " 'service fair best ',\n",
       " 'love sushi  found kabuki priced  hip service ',\n",
       " 'favor stay away dish ',\n",
       " 'poor service ',\n",
       " 'one table thought food average worth wait ',\n",
       " 'best service food ever  maria server good friendly made day ',\n",
       " 'excellent ',\n",
       " 'paid bill tip felt server terrible job ',\n",
       " 'lunch great experience ',\n",
       " 'never bland food surprised considering article read focused much spice flavor ',\n",
       " 'food way overpriced portion fucking small ',\n",
       " 'recently tried caballero back every week since ',\n",
       " '   buck head  really expect better food ',\n",
       " 'food came good pace ',\n",
       " 'ate twice last visit  especially enjoyed salmon salad ',\n",
       " 'back ',\n",
       " 'could believe dirty oyster ',\n",
       " 'place deserves star ',\n",
       " 'would recommend place ',\n",
       " 'fact going round   star  awesome ',\n",
       " 'disbelief  dish qualified worst version food ever tasted ',\n",
       " 'bad day  low tolerance rude customer service people  job nice polite  wash dish otherwise  ',\n",
       " 'potato great biscuit ',\n",
       " 'probably would go ',\n",
       " 'flavorful perfect amount heat ',\n",
       " 'price reasonable service great ',\n",
       " 'wife hated meal  coconut shrimp   friend really enjoy meal  either ',\n",
       " 'fella got huevos rancheros look appealing ',\n",
       " 'went happy hour  great list wine ',\n",
       " 'may say buffet pricey think get pay place getting quite lot ',\n",
       " 'probably coming back ',\n",
       " 'worst food service ',\n",
       " 'place pretty good  nice little vibe restaurant ',\n",
       " 'talk great customer service course back ',\n",
       " 'hot dish hot  cold dish close room temp watched staff prepare food bare hand  glove everything deep fried oil ',\n",
       " 'love fry bean ',\n",
       " 'always pleasure dealing ',\n",
       " 'plethora salad sandwich  everything tried get seal approval ',\n",
       " 'place awesome want something light healthy summer ',\n",
       " 'sushi strip  place go ',\n",
       " 'service great  even manager came helped table ',\n",
       " 'feel dining room college cooking course high class dining service slow best ',\n",
       " 'started review two star  editing give one ',\n",
       " 'worst sushi ever eat besides costco ',\n",
       " 'excellent restaurant highlighted great service  unique menu  beautiful setting ',\n",
       " 'boyfriend sat bar completely delightful experience ',\n",
       " 'weird vibe owner ',\n",
       " 'hardly meat ',\n",
       " 'better bagel grocery store ',\n",
       " 'go place gyro ',\n",
       " 'love owner chef  one authentic japanese cool dude ',\n",
       " 'burger good  pizza used amazing doughy flavorless ',\n",
       " 'found six inch long piece wire salsa ',\n",
       " 'service terrible  food mediocre ',\n",
       " 'definately enjoyed ',\n",
       " 'ordered albondigas soup   warm   tasted like tomato soup frozen meatball ',\n",
       " 'three different occasion asked well done medium well  three time got bloodiest piece meat plate ',\n",
       " 'two bite refused eat anymore ',\n",
       " 'service extremely slow ',\n",
       " '   minute wait  got table ',\n",
       " 'seriously killer hot chai latte ',\n",
       " 'allergy warning menu  waitress absolutely clue meal contain peanut ',\n",
       " 'boyfriend tried mediterranean chicken salad fell love ',\n",
       " 'rotating beer tap also highlight place ',\n",
       " 'pricing bit concern mellow mushroom ',\n",
       " 'worst thai ever ',\n",
       " 'stay vega must get breakfast least ',\n",
       " 'want first say server great perfect service ',\n",
       " 'pizza selection good ',\n",
       " 'strawberry tea  good ',\n",
       " 'highly unprofessional rude loyal patron ',\n",
       " 'overall  great experience ']"
      ]
     },
     "execution_count": 10,
     "metadata": {},
     "output_type": "execute_result"
    }
   ],
   "source": [
    "corpus"
   ]
  },
  {
   "cell_type": "code",
   "execution_count": 183,
   "id": "7f4ce626",
   "metadata": {},
   "outputs": [],
   "source": [
    "cv=CountVectorizer(max_features=1600)\n",
    "from sklearn.feature_extraction.text import TfidfVectorizer\n",
    "tf=TfidfVectorizer()"
   ]
  },
  {
   "cell_type": "code",
   "execution_count": 184,
   "id": "dcdea1e5",
   "metadata": {},
   "outputs": [],
   "source": [
    "X=tf.fit_transform(corpus).toarray()"
   ]
  },
  {
   "cell_type": "code",
   "execution_count": 185,
   "id": "3c9164ac",
   "metadata": {},
   "outputs": [
    {
     "data": {
      "text/plain": [
       "(900, 1640)"
      ]
     },
     "execution_count": 185,
     "metadata": {},
     "output_type": "execute_result"
    }
   ],
   "source": [
    "X.shape"
   ]
  },
  {
   "cell_type": "code",
   "execution_count": 186,
   "id": "455b9713",
   "metadata": {},
   "outputs": [],
   "source": [
    "y=df[\"Liked\"]"
   ]
  },
  {
   "cell_type": "code",
   "execution_count": 187,
   "id": "14aa7409",
   "metadata": {},
   "outputs": [
    {
     "data": {
      "text/plain": [
       "(900,)"
      ]
     },
     "execution_count": 187,
     "metadata": {},
     "output_type": "execute_result"
    }
   ],
   "source": [
    "y.shape"
   ]
  },
  {
   "cell_type": "code",
   "execution_count": 188,
   "id": "cd47c157",
   "metadata": {},
   "outputs": [],
   "source": [
    "X_train,X_test,y_train,y_test=train_test_split(X,y,random_state=42,test_size=0.1)"
   ]
  },
  {
   "cell_type": "code",
   "execution_count": 189,
   "id": "00e0b616",
   "metadata": {},
   "outputs": [],
   "source": [
    "from sklearn.linear_model import LogisticRegression\n",
    "from sklearn.ensemble import RandomForestClassifier\n",
    "import xgboost"
   ]
  },
  {
   "cell_type": "code",
   "execution_count": 190,
   "id": "eb1a3709",
   "metadata": {},
   "outputs": [
    {
     "data": {
      "text/html": [
       "<style>#sk-container-id-21 {color: black;background-color: white;}#sk-container-id-21 pre{padding: 0;}#sk-container-id-21 div.sk-toggleable {background-color: white;}#sk-container-id-21 label.sk-toggleable__label {cursor: pointer;display: block;width: 100%;margin-bottom: 0;padding: 0.3em;box-sizing: border-box;text-align: center;}#sk-container-id-21 label.sk-toggleable__label-arrow:before {content: \"▸\";float: left;margin-right: 0.25em;color: #696969;}#sk-container-id-21 label.sk-toggleable__label-arrow:hover:before {color: black;}#sk-container-id-21 div.sk-estimator:hover label.sk-toggleable__label-arrow:before {color: black;}#sk-container-id-21 div.sk-toggleable__content {max-height: 0;max-width: 0;overflow: hidden;text-align: left;background-color: #f0f8ff;}#sk-container-id-21 div.sk-toggleable__content pre {margin: 0.2em;color: black;border-radius: 0.25em;background-color: #f0f8ff;}#sk-container-id-21 input.sk-toggleable__control:checked~div.sk-toggleable__content {max-height: 200px;max-width: 100%;overflow: auto;}#sk-container-id-21 input.sk-toggleable__control:checked~label.sk-toggleable__label-arrow:before {content: \"▾\";}#sk-container-id-21 div.sk-estimator input.sk-toggleable__control:checked~label.sk-toggleable__label {background-color: #d4ebff;}#sk-container-id-21 div.sk-label input.sk-toggleable__control:checked~label.sk-toggleable__label {background-color: #d4ebff;}#sk-container-id-21 input.sk-hidden--visually {border: 0;clip: rect(1px 1px 1px 1px);clip: rect(1px, 1px, 1px, 1px);height: 1px;margin: -1px;overflow: hidden;padding: 0;position: absolute;width: 1px;}#sk-container-id-21 div.sk-estimator {font-family: monospace;background-color: #f0f8ff;border: 1px dotted black;border-radius: 0.25em;box-sizing: border-box;margin-bottom: 0.5em;}#sk-container-id-21 div.sk-estimator:hover {background-color: #d4ebff;}#sk-container-id-21 div.sk-parallel-item::after {content: \"\";width: 100%;border-bottom: 1px solid gray;flex-grow: 1;}#sk-container-id-21 div.sk-label:hover label.sk-toggleable__label {background-color: #d4ebff;}#sk-container-id-21 div.sk-serial::before {content: \"\";position: absolute;border-left: 1px solid gray;box-sizing: border-box;top: 0;bottom: 0;left: 50%;z-index: 0;}#sk-container-id-21 div.sk-serial {display: flex;flex-direction: column;align-items: center;background-color: white;padding-right: 0.2em;padding-left: 0.2em;position: relative;}#sk-container-id-21 div.sk-item {position: relative;z-index: 1;}#sk-container-id-21 div.sk-parallel {display: flex;align-items: stretch;justify-content: center;background-color: white;position: relative;}#sk-container-id-21 div.sk-item::before, #sk-container-id-21 div.sk-parallel-item::before {content: \"\";position: absolute;border-left: 1px solid gray;box-sizing: border-box;top: 0;bottom: 0;left: 50%;z-index: -1;}#sk-container-id-21 div.sk-parallel-item {display: flex;flex-direction: column;z-index: 1;position: relative;background-color: white;}#sk-container-id-21 div.sk-parallel-item:first-child::after {align-self: flex-end;width: 50%;}#sk-container-id-21 div.sk-parallel-item:last-child::after {align-self: flex-start;width: 50%;}#sk-container-id-21 div.sk-parallel-item:only-child::after {width: 0;}#sk-container-id-21 div.sk-dashed-wrapped {border: 1px dashed gray;margin: 0 0.4em 0.5em 0.4em;box-sizing: border-box;padding-bottom: 0.4em;background-color: white;}#sk-container-id-21 div.sk-label label {font-family: monospace;font-weight: bold;display: inline-block;line-height: 1.2em;}#sk-container-id-21 div.sk-label-container {text-align: center;}#sk-container-id-21 div.sk-container {/* jupyter's `normalize.less` sets `[hidden] { display: none; }` but bootstrap.min.css set `[hidden] { display: none !important; }` so we also need the `!important` here to be able to override the default hidden behavior on the sphinx rendered scikit-learn.org. See: https://github.com/scikit-learn/scikit-learn/issues/21755 */display: inline-block !important;position: relative;}#sk-container-id-21 div.sk-text-repr-fallback {display: none;}</style><div id=\"sk-container-id-21\" class=\"sk-top-container\"><div class=\"sk-text-repr-fallback\"><pre>LogisticRegression()</pre><b>In a Jupyter environment, please rerun this cell to show the HTML representation or trust the notebook. <br />On GitHub, the HTML representation is unable to render, please try loading this page with nbviewer.org.</b></div><div class=\"sk-container\" hidden><div class=\"sk-item\"><div class=\"sk-estimator sk-toggleable\"><input class=\"sk-toggleable__control sk-hidden--visually\" id=\"sk-estimator-id-21\" type=\"checkbox\" checked><label for=\"sk-estimator-id-21\" class=\"sk-toggleable__label sk-toggleable__label-arrow\">LogisticRegression</label><div class=\"sk-toggleable__content\"><pre>LogisticRegression()</pre></div></div></div></div></div>"
      ],
      "text/plain": [
       "LogisticRegression()"
      ]
     },
     "execution_count": 190,
     "metadata": {},
     "output_type": "execute_result"
    }
   ],
   "source": [
    "model1=LogisticRegression()\n",
    "model1.fit(X_train,y_train)\n"
   ]
  },
  {
   "cell_type": "code",
   "execution_count": 191,
   "id": "167fc29b",
   "metadata": {},
   "outputs": [],
   "source": [
    "y_pred=model1.predict(X_test)"
   ]
  },
  {
   "cell_type": "code",
   "execution_count": 192,
   "id": "0b572618",
   "metadata": {},
   "outputs": [],
   "source": [
    "from sklearn.metrics import accuracy_score,confusion_matrix,classification_report "
   ]
  },
  {
   "cell_type": "code",
   "execution_count": 193,
   "id": "948355b1",
   "metadata": {},
   "outputs": [
    {
     "data": {
      "text/plain": [
       "0.8111111111111111"
      ]
     },
     "execution_count": 193,
     "metadata": {},
     "output_type": "execute_result"
    }
   ],
   "source": [
    "accuracy_score(y_test,y_pred)"
   ]
  },
  {
   "cell_type": "code",
   "execution_count": 194,
   "id": "33c67374",
   "metadata": {},
   "outputs": [],
   "source": [
    "finaldf=pd.DataFrame({\"actual\": y_test, \"predicted\": y_pred})"
   ]
  },
  {
   "cell_type": "code",
   "execution_count": 195,
   "id": "8f4364dd",
   "metadata": {},
   "outputs": [
    {
     "data": {
      "text/html": [
       "<div>\n",
       "<style scoped>\n",
       "    .dataframe tbody tr th:only-of-type {\n",
       "        vertical-align: middle;\n",
       "    }\n",
       "\n",
       "    .dataframe tbody tr th {\n",
       "        vertical-align: top;\n",
       "    }\n",
       "\n",
       "    .dataframe thead th {\n",
       "        text-align: right;\n",
       "    }\n",
       "</style>\n",
       "<table border=\"1\" class=\"dataframe\">\n",
       "  <thead>\n",
       "    <tr style=\"text-align: right;\">\n",
       "      <th></th>\n",
       "      <th>actual</th>\n",
       "      <th>predicted</th>\n",
       "    </tr>\n",
       "  </thead>\n",
       "  <tbody>\n",
       "    <tr>\n",
       "      <th>70</th>\n",
       "      <td>1</td>\n",
       "      <td>0</td>\n",
       "    </tr>\n",
       "    <tr>\n",
       "      <th>827</th>\n",
       "      <td>0</td>\n",
       "      <td>0</td>\n",
       "    </tr>\n",
       "    <tr>\n",
       "      <th>231</th>\n",
       "      <td>0</td>\n",
       "      <td>0</td>\n",
       "    </tr>\n",
       "    <tr>\n",
       "      <th>588</th>\n",
       "      <td>1</td>\n",
       "      <td>1</td>\n",
       "    </tr>\n",
       "    <tr>\n",
       "      <th>39</th>\n",
       "      <td>0</td>\n",
       "      <td>0</td>\n",
       "    </tr>\n",
       "    <tr>\n",
       "      <th>...</th>\n",
       "      <td>...</td>\n",
       "      <td>...</td>\n",
       "    </tr>\n",
       "    <tr>\n",
       "      <th>777</th>\n",
       "      <td>0</td>\n",
       "      <td>0</td>\n",
       "    </tr>\n",
       "    <tr>\n",
       "      <th>381</th>\n",
       "      <td>1</td>\n",
       "      <td>1</td>\n",
       "    </tr>\n",
       "    <tr>\n",
       "      <th>485</th>\n",
       "      <td>1</td>\n",
       "      <td>1</td>\n",
       "    </tr>\n",
       "    <tr>\n",
       "      <th>218</th>\n",
       "      <td>0</td>\n",
       "      <td>1</td>\n",
       "    </tr>\n",
       "    <tr>\n",
       "      <th>575</th>\n",
       "      <td>0</td>\n",
       "      <td>1</td>\n",
       "    </tr>\n",
       "  </tbody>\n",
       "</table>\n",
       "<p>90 rows × 2 columns</p>\n",
       "</div>"
      ],
      "text/plain": [
       "     actual  predicted\n",
       "70        1          0\n",
       "827       0          0\n",
       "231       0          0\n",
       "588       1          1\n",
       "39        0          0\n",
       "..      ...        ...\n",
       "777       0          0\n",
       "381       1          1\n",
       "485       1          1\n",
       "218       0          1\n",
       "575       0          1\n",
       "\n",
       "[90 rows x 2 columns]"
      ]
     },
     "execution_count": 195,
     "metadata": {},
     "output_type": "execute_result"
    }
   ],
   "source": [
    "finaldf"
   ]
  },
  {
   "cell_type": "code",
   "execution_count": 196,
   "id": "a2fd32a4",
   "metadata": {},
   "outputs": [
    {
     "data": {
      "text/plain": [
       "array([[34,  9],\n",
       "       [ 8, 39]], dtype=int64)"
      ]
     },
     "execution_count": 196,
     "metadata": {},
     "output_type": "execute_result"
    }
   ],
   "source": [
    "confusion_matrix(y_test,y_pred)"
   ]
  },
  {
   "cell_type": "code",
   "execution_count": 197,
   "id": "96fc0dde",
   "metadata": {},
   "outputs": [
    {
     "data": {
      "text/plain": [
       "(810, 1640)"
      ]
     },
     "execution_count": 197,
     "metadata": {},
     "output_type": "execute_result"
    }
   ],
   "source": [
    "X_train.shape"
   ]
  },
  {
   "cell_type": "code",
   "execution_count": 198,
   "id": "3be2e19b",
   "metadata": {},
   "outputs": [
    {
     "data": {
      "text/plain": [
       "(90, 1640)"
      ]
     },
     "execution_count": 198,
     "metadata": {},
     "output_type": "execute_result"
    }
   ],
   "source": [
    "X_test.shape"
   ]
  },
  {
   "cell_type": "code",
   "execution_count": 199,
   "id": "526f65c3",
   "metadata": {},
   "outputs": [
    {
     "name": "stdout",
     "output_type": "stream",
     "text": [
      "              precision    recall  f1-score   support\n",
      "\n",
      "           0       0.81      0.79      0.80        43\n",
      "           1       0.81      0.83      0.82        47\n",
      "\n",
      "    accuracy                           0.81        90\n",
      "   macro avg       0.81      0.81      0.81        90\n",
      "weighted avg       0.81      0.81      0.81        90\n",
      "\n"
     ]
    }
   ],
   "source": [
    "print(classification_report(y_test,y_pred))"
   ]
  },
  {
   "cell_type": "code",
   "execution_count": 200,
   "id": "7f55246a",
   "metadata": {},
   "outputs": [
    {
     "data": {
      "image/png": "[encoded data removed]",
      "text/plain": [
       "<Figure size 640x480 with 2 Axes>"
      ]
     },
     "metadata": {},
     "output_type": "display_data"
    }
   ],
   "source": [
    "import seaborn as sns\n",
    "import matplotlib.pyplot as plt\n",
    "\n",
    "# Compute confusion matrix\n",
    "cm = confusion_matrix(y_test, y_pred)\n",
    "\n",
    "# Create a heatmap\n",
    "sns.heatmap(cm, annot=True, fmt='d', cmap='Blues', xticklabels=[\"Pred 0\", \"Pred 1\"], yticklabels=[\"Actual 0\", \"Actual 1\"])\n",
    "plt.xlabel(\"Predicted\")\n",
    "plt.ylabel(\"Actual\")\n",
    "plt.title(\"Confusion Matrix\")\n",
    "plt.show()"
   ]
  },
  {
   "cell_type": "code",
   "execution_count": 201,
   "id": "bc1308bd",
   "metadata": {},
   "outputs": [],
   "source": [
    "model2=RandomForestClassifier()"
   ]
  },
  {
   "cell_type": "code",
   "execution_count": 202,
   "id": "0e6a16c4",
   "metadata": {},
   "outputs": [
    {
     "data": {
      "text/html": [
       "<style>#sk-container-id-22 {color: black;background-color: white;}#sk-container-id-22 pre{padding: 0;}#sk-container-id-22 div.sk-toggleable {background-color: white;}#sk-container-id-22 label.sk-toggleable__label {cursor: pointer;display: block;width: 100%;margin-bottom: 0;padding: 0.3em;box-sizing: border-box;text-align: center;}#sk-container-id-22 label.sk-toggleable__label-arrow:before {content: \"▸\";float: left;margin-right: 0.25em;color: #696969;}#sk-container-id-22 label.sk-toggleable__label-arrow:hover:before {color: black;}#sk-container-id-22 div.sk-estimator:hover label.sk-toggleable__label-arrow:before {color: black;}#sk-container-id-22 div.sk-toggleable__content {max-height: 0;max-width: 0;overflow: hidden;text-align: left;background-color: #f0f8ff;}#sk-container-id-22 div.sk-toggleable__content pre {margin: 0.2em;color: black;border-radius: 0.25em;background-color: #f0f8ff;}#sk-container-id-22 input.sk-toggleable__control:checked~div.sk-toggleable__content {max-height: 200px;max-width: 100%;overflow: auto;}#sk-container-id-22 input.sk-toggleable__control:checked~label.sk-toggleable__label-arrow:before {content: \"▾\";}#sk-container-id-22 div.sk-estimator input.sk-toggleable__control:checked~label.sk-toggleable__label {background-color: #d4ebff;}#sk-container-id-22 div.sk-label input.sk-toggleable__control:checked~label.sk-toggleable__label {background-color: #d4ebff;}#sk-container-id-22 input.sk-hidden--visually {border: 0;clip: rect(1px 1px 1px 1px);clip: rect(1px, 1px, 1px, 1px);height: 1px;margin: -1px;overflow: hidden;padding: 0;position: absolute;width: 1px;}#sk-container-id-22 div.sk-estimator {font-family: monospace;background-color: #f0f8ff;border: 1px dotted black;border-radius: 0.25em;box-sizing: border-box;margin-bottom: 0.5em;}#sk-container-id-22 div.sk-estimator:hover {background-color: #d4ebff;}#sk-container-id-22 div.sk-parallel-item::after {content: \"\";width: 100%;border-bottom: 1px solid gray;flex-grow: 1;}#sk-container-id-22 div.sk-label:hover label.sk-toggleable__label {background-color: #d4ebff;}#sk-container-id-22 div.sk-serial::before {content: \"\";position: absolute;border-left: 1px solid gray;box-sizing: border-box;top: 0;bottom: 0;left: 50%;z-index: 0;}#sk-container-id-22 div.sk-serial {display: flex;flex-direction: column;align-items: center;background-color: white;padding-right: 0.2em;padding-left: 0.2em;position: relative;}#sk-container-id-22 div.sk-item {position: relative;z-index: 1;}#sk-container-id-22 div.sk-parallel {display: flex;align-items: stretch;justify-content: center;background-color: white;position: relative;}#sk-container-id-22 div.sk-item::before, #sk-container-id-22 div.sk-parallel-item::before {content: \"\";position: absolute;border-left: 1px solid gray;box-sizing: border-box;top: 0;bottom: 0;left: 50%;z-index: -1;}#sk-container-id-22 div.sk-parallel-item {display: flex;flex-direction: column;z-index: 1;position: relative;background-color: white;}#sk-container-id-22 div.sk-parallel-item:first-child::after {align-self: flex-end;width: 50%;}#sk-container-id-22 div.sk-parallel-item:last-child::after {align-self: flex-start;width: 50%;}#sk-container-id-22 div.sk-parallel-item:only-child::after {width: 0;}#sk-container-id-22 div.sk-dashed-wrapped {border: 1px dashed gray;margin: 0 0.4em 0.5em 0.4em;box-sizing: border-box;padding-bottom: 0.4em;background-color: white;}#sk-container-id-22 div.sk-label label {font-family: monospace;font-weight: bold;display: inline-block;line-height: 1.2em;}#sk-container-id-22 div.sk-label-container {text-align: center;}#sk-container-id-22 div.sk-container {/* jupyter's `normalize.less` sets `[hidden] { display: none; }` but bootstrap.min.css set `[hidden] { display: none !important; }` so we also need the `!important` here to be able to override the default hidden behavior on the sphinx rendered scikit-learn.org. See: https://github.com/scikit-learn/scikit-learn/issues/21755 */display: inline-block !important;position: relative;}#sk-container-id-22 div.sk-text-repr-fallback {display: none;}</style><div id=\"sk-container-id-22\" class=\"sk-top-container\"><div class=\"sk-text-repr-fallback\"><pre>RandomForestClassifier()</pre><b>In a Jupyter environment, please rerun this cell to show the HTML representation or trust the notebook. <br />On GitHub, the HTML representation is unable to render, please try loading this page with nbviewer.org.</b></div><div class=\"sk-container\" hidden><div class=\"sk-item\"><div class=\"sk-estimator sk-toggleable\"><input class=\"sk-toggleable__control sk-hidden--visually\" id=\"sk-estimator-id-22\" type=\"checkbox\" checked><label for=\"sk-estimator-id-22\" class=\"sk-toggleable__label sk-toggleable__label-arrow\">RandomForestClassifier</label><div class=\"sk-toggleable__content\"><pre>RandomForestClassifier()</pre></div></div></div></div></div>"
      ],
      "text/plain": [
       "RandomForestClassifier()"
      ]
     },
     "execution_count": 202,
     "metadata": {},
     "output_type": "execute_result"
    }
   ],
   "source": [
    "model2.fit(X_train,y_train)"
   ]
  },
  {
   "cell_type": "code",
   "execution_count": null,
   "id": "beafe69f",
   "metadata": {},
   "outputs": [],
   "source": [
    "y_pred_c=model2.predict(X_test)"
   ]
  },
  {
   "cell_type": "code",
   "execution_count": 203,
   "id": "9b91ba52",
   "metadata": {},
   "outputs": [
    {
     "data": {
      "text/plain": [
       "0.7555555555555555"
      ]
     },
     "execution_count": 203,
     "metadata": {},
     "output_type": "execute_result"
    }
   ],
   "source": [
    "accuracy_score(y_test,y_pred_c)"
   ]
  },
  {
   "cell_type": "code",
   "execution_count": 204,
   "id": "aeffc428",
   "metadata": {},
   "outputs": [
    {
     "data": {
      "image/png": "[encoded data removed]",
      "text/plain": [
       "<Figure size 640x480 with 2 Axes>"
      ]
     },
     "metadata": {},
     "output_type": "display_data"
    }
   ],
   "source": [
    "cm = confusion_matrix(y_test, y_pred_c)\n",
    "\n",
    "# Create a heatmap\n",
    "sns.heatmap(cm, annot=True, fmt='d', cmap='Blues', xticklabels=[\"Pred 0\", \"Pred 1\"], yticklabels=[\"Actual 0\", \"Actual 1\"])\n",
    "plt.xlabel(\"Predicted\")\n",
    "plt.ylabel(\"Actual\")\n",
    "plt.title(\"Confusion Matrix\")\n",
    "plt.show()"
   ]
  },
  {
   "cell_type": "code",
   "execution_count": 205,
   "id": "8b082cfd",
   "metadata": {},
   "outputs": [],
   "source": [
    "model3=xgboost.XGBClassifier()"
   ]
  },
  {
   "cell_type": "code",
   "execution_count": 206,
   "id": "f1a3ef83",
   "metadata": {},
   "outputs": [
    {
     "data": {
      "text/html": [
       "<style>#sk-container-id-23 {color: black;background-color: white;}#sk-container-id-23 pre{padding: 0;}#sk-container-id-23 div.sk-toggleable {background-color: white;}#sk-container-id-23 label.sk-toggleable__label {cursor: pointer;display: block;width: 100%;margin-bottom: 0;padding: 0.3em;box-sizing: border-box;text-align: center;}#sk-container-id-23 label.sk-toggleable__label-arrow:before {content: \"▸\";float: left;margin-right: 0.25em;color: #696969;}#sk-container-id-23 label.sk-toggleable__label-arrow:hover:before {color: black;}#sk-container-id-23 div.sk-estimator:hover label.sk-toggleable__label-arrow:before {color: black;}#sk-container-id-23 div.sk-toggleable__content {max-height: 0;max-width: 0;overflow: hidden;text-align: left;background-color: #f0f8ff;}#sk-container-id-23 div.sk-toggleable__content pre {margin: 0.2em;color: black;border-radius: 0.25em;background-color: #f0f8ff;}#sk-container-id-23 input.sk-toggleable__control:checked~div.sk-toggleable__content {max-height: 200px;max-width: 100%;overflow: auto;}#sk-container-id-23 input.sk-toggleable__control:checked~label.sk-toggleable__label-arrow:before {content: \"▾\";}#sk-container-id-23 div.sk-estimator input.sk-toggleable__control:checked~label.sk-toggleable__label {background-color: #d4ebff;}#sk-container-id-23 div.sk-label input.sk-toggleable__control:checked~label.sk-toggleable__label {background-color: #d4ebff;}#sk-container-id-23 input.sk-hidden--visually {border: 0;clip: rect(1px 1px 1px 1px);clip: rect(1px, 1px, 1px, 1px);height: 1px;margin: -1px;overflow: hidden;padding: 0;position: absolute;width: 1px;}#sk-container-id-23 div.sk-estimator {font-family: monospace;background-color: #f0f8ff;border: 1px dotted black;border-radius: 0.25em;box-sizing: border-box;margin-bottom: 0.5em;}#sk-container-id-23 div.sk-estimator:hover {background-color: #d4ebff;}#sk-container-id-23 div.sk-parallel-item::after {content: \"\";width: 100%;border-bottom: 1px solid gray;flex-grow: 1;}#sk-container-id-23 div.sk-label:hover label.sk-toggleable__label {background-color: #d4ebff;}#sk-container-id-23 div.sk-serial::before {content: \"\";position: absolute;border-left: 1px solid gray;box-sizing: border-box;top: 0;bottom: 0;left: 50%;z-index: 0;}#sk-container-id-23 div.sk-serial {display: flex;flex-direction: column;align-items: center;background-color: white;padding-right: 0.2em;padding-left: 0.2em;position: relative;}#sk-container-id-23 div.sk-item {position: relative;z-index: 1;}#sk-container-id-23 div.sk-parallel {display: flex;align-items: stretch;justify-content: center;background-color: white;position: relative;}#sk-container-id-23 div.sk-item::before, #sk-container-id-23 div.sk-parallel-item::before {content: \"\";position: absolute;border-left: 1px solid gray;box-sizing: border-box;top: 0;bottom: 0;left: 50%;z-index: -1;}#sk-container-id-23 div.sk-parallel-item {display: flex;flex-direction: column;z-index: 1;position: relative;background-color: white;}#sk-container-id-23 div.sk-parallel-item:first-child::after {align-self: flex-end;width: 50%;}#sk-container-id-23 div.sk-parallel-item:last-child::after {align-self: flex-start;width: 50%;}#sk-container-id-23 div.sk-parallel-item:only-child::after {width: 0;}#sk-container-id-23 div.sk-dashed-wrapped {border: 1px dashed gray;margin: 0 0.4em 0.5em 0.4em;box-sizing: border-box;padding-bottom: 0.4em;background-color: white;}#sk-container-id-23 div.sk-label label {font-family: monospace;font-weight: bold;display: inline-block;line-height: 1.2em;}#sk-container-id-23 div.sk-label-container {text-align: center;}#sk-container-id-23 div.sk-container {/* jupyter's `normalize.less` sets `[hidden] { display: none; }` but bootstrap.min.css set `[hidden] { display: none !important; }` so we also need the `!important` here to be able to override the default hidden behavior on the sphinx rendered scikit-learn.org. See: https://github.com/scikit-learn/scikit-learn/issues/21755 */display: inline-block !important;position: relative;}#sk-container-id-23 div.sk-text-repr-fallback {display: none;}</style><div id=\"sk-container-id-23\" class=\"sk-top-container\"><div class=\"sk-text-repr-fallback\"><pre>XGBClassifier(base_score=None, booster=None, callbacks=None,\n",
       "              colsample_bylevel=None, colsample_bynode=None,\n",
       "              colsample_bytree=None, device=None, early_stopping_rounds=None,\n",
       "              enable_categorical=False, eval_metric=None, feature_types=None,\n",
       "              gamma=None, grow_policy=None, importance_type=None,\n",
       "              interaction_constraints=None, learning_rate=None, max_bin=None,\n",
       "              max_cat_threshold=None, max_cat_to_onehot=None,\n",
       "              max_delta_step=None, max_depth=None, max_leaves=None,\n",
       "              min_child_weight=None, missing=nan, monotone_constraints=None,\n",
       "              multi_strategy=None, n_estimators=None, n_jobs=None,\n",
       "              num_parallel_tree=None, random_state=None, ...)</pre><b>In a Jupyter environment, please rerun this cell to show the HTML representation or trust the notebook. <br />On GitHub, the HTML representation is unable to render, please try loading this page with nbviewer.org.</b></div><div class=\"sk-container\" hidden><div class=\"sk-item\"><div class=\"sk-estimator sk-toggleable\"><input class=\"sk-toggleable__control sk-hidden--visually\" id=\"sk-estimator-id-23\" type=\"checkbox\" checked><label for=\"sk-estimator-id-23\" class=\"sk-toggleable__label sk-toggleable__label-arrow\">XGBClassifier</label><div class=\"sk-toggleable__content\"><pre>XGBClassifier(base_score=None, booster=None, callbacks=None,\n",
       "              colsample_bylevel=None, colsample_bynode=None,\n",
       "              colsample_bytree=None, device=None, early_stopping_rounds=None,\n",
       "              enable_categorical=False, eval_metric=None, feature_types=None,\n",
       "              gamma=None, grow_policy=None, importance_type=None,\n",
       "              interaction_constraints=None, learning_rate=None, max_bin=None,\n",
       "              max_cat_threshold=None, max_cat_to_onehot=None,\n",
       "              max_delta_step=None, max_depth=None, max_leaves=None,\n",
       "              min_child_weight=None, missing=nan, monotone_constraints=None,\n",
       "              multi_strategy=None, n_estimators=None, n_jobs=None,\n",
       "              num_parallel_tree=None, random_state=None, ...)</pre></div></div></div></div></div>"
      ],
      "text/plain": [
       "XGBClassifier(base_score=None, booster=None, callbacks=None,\n",
       "              colsample_bylevel=None, colsample_bynode=None,\n",
       "              colsample_bytree=None, device=None, early_stopping_rounds=None,\n",
       "              enable_categorical=False, eval_metric=None, feature_types=None,\n",
       "              gamma=None, grow_policy=None, importance_type=None,\n",
       "              interaction_constraints=None, learning_rate=None, max_bin=None,\n",
       "              max_cat_threshold=None, max_cat_to_onehot=None,\n",
       "              max_delta_step=None, max_depth=None, max_leaves=None,\n",
       "              min_child_weight=None, missing=nan, monotone_constraints=None,\n",
       "              multi_strategy=None, n_estimators=None, n_jobs=None,\n",
       "              num_parallel_tree=None, random_state=None, ...)"
      ]
     },
     "execution_count": 206,
     "metadata": {},
     "output_type": "execute_result"
    }
   ],
   "source": [
    "model3.fit(X_train,y_train)"
   ]
  },
  {
   "cell_type": "code",
   "execution_count": null,
   "id": "22427399",
   "metadata": {},
   "outputs": [],
   "source": [
    "y_pred_x=model3.predict(X_test)\n",
    "type(y_pred_x)\n",
    "print(X_test.shape)\n",
    "print(y_pred_x.shape)\n"
   ]
  },
  {
   "cell_type": "code",
   "execution_count": 207,
   "id": "75e51acc",
   "metadata": {},
   "outputs": [
    {
     "data": {
      "text/plain": [
       "0.7222222222222222"
      ]
     },
     "execution_count": 207,
     "metadata": {},
     "output_type": "execute_result"
    }
   ],
   "source": [
    "accuracy_score(y_test,y_pred_x)"
   ]
  },
  {
   "cell_type": "code",
   "execution_count": 208,
   "id": "829f4e11",
   "metadata": {},
   "outputs": [
    {
     "data": {
      "image/png": "[encoded data removed]",
      "text/plain": [
       "<Figure size 640x480 with 2 Axes>"
      ]
     },
     "metadata": {},
     "output_type": "display_data"
    }
   ],
   "source": [
    "cm = confusion_matrix(y_test, y_pred_x)\n",
    "\n",
    "# Create a heatmap\n",
    "sns.heatmap(cm, annot=True, fmt='d', cmap='Blues', xticklabels=[\"Pred 0\", \"Pred 1\"], yticklabels=[\"Actual 0\", \"Actual 1\"])\n",
    "plt.xlabel(\"Predicted\")\n",
    "plt.ylabel(\"Actual\")\n",
    "plt.title(\"Confusion Matrix\")\n",
    "plt.show()"
   ]
  },
  {
   "cell_type": "code",
   "execution_count": 209,
   "id": "6327784a",
   "metadata": {},
   "outputs": [],
   "source": [
    "from sklearn.svm import SVC\n",
    "model4=SVC()"
   ]
  },
  {
   "cell_type": "code",
   "execution_count": 210,
   "id": "961cb6a5",
   "metadata": {},
   "outputs": [
    {
     "data": {
      "text/html": [
       "<style>#sk-container-id-24 {color: black;background-color: white;}#sk-container-id-24 pre{padding: 0;}#sk-container-id-24 div.sk-toggleable {background-color: white;}#sk-container-id-24 label.sk-toggleable__label {cursor: pointer;display: block;width: 100%;margin-bottom: 0;padding: 0.3em;box-sizing: border-box;text-align: center;}#sk-container-id-24 label.sk-toggleable__label-arrow:before {content: \"▸\";float: left;margin-right: 0.25em;color: #696969;}#sk-container-id-24 label.sk-toggleable__label-arrow:hover:before {color: black;}#sk-container-id-24 div.sk-estimator:hover label.sk-toggleable__label-arrow:before {color: black;}#sk-container-id-24 div.sk-toggleable__content {max-height: 0;max-width: 0;overflow: hidden;text-align: left;background-color: #f0f8ff;}#sk-container-id-24 div.sk-toggleable__content pre {margin: 0.2em;color: black;border-radius: 0.25em;background-color: #f0f8ff;}#sk-container-id-24 input.sk-toggleable__control:checked~div.sk-toggleable__content {max-height: 200px;max-width: 100%;overflow: auto;}#sk-container-id-24 input.sk-toggleable__control:checked~label.sk-toggleable__label-arrow:before {content: \"▾\";}#sk-container-id-24 div.sk-estimator input.sk-toggleable__control:checked~label.sk-toggleable__label {background-color: #d4ebff;}#sk-container-id-24 div.sk-label input.sk-toggleable__control:checked~label.sk-toggleable__label {background-color: #d4ebff;}#sk-container-id-24 input.sk-hidden--visually {border: 0;clip: rect(1px 1px 1px 1px);clip: rect(1px, 1px, 1px, 1px);height: 1px;margin: -1px;overflow: hidden;padding: 0;position: absolute;width: 1px;}#sk-container-id-24 div.sk-estimator {font-family: monospace;background-color: #f0f8ff;border: 1px dotted black;border-radius: 0.25em;box-sizing: border-box;margin-bottom: 0.5em;}#sk-container-id-24 div.sk-estimator:hover {background-color: #d4ebff;}#sk-container-id-24 div.sk-parallel-item::after {content: \"\";width: 100%;border-bottom: 1px solid gray;flex-grow: 1;}#sk-container-id-24 div.sk-label:hover label.sk-toggleable__label {background-color: #d4ebff;}#sk-container-id-24 div.sk-serial::before {content: \"\";position: absolute;border-left: 1px solid gray;box-sizing: border-box;top: 0;bottom: 0;left: 50%;z-index: 0;}#sk-container-id-24 div.sk-serial {display: flex;flex-direction: column;align-items: center;background-color: white;padding-right: 0.2em;padding-left: 0.2em;position: relative;}#sk-container-id-24 div.sk-item {position: relative;z-index: 1;}#sk-container-id-24 div.sk-parallel {display: flex;align-items: stretch;justify-content: center;background-color: white;position: relative;}#sk-container-id-24 div.sk-item::before, #sk-container-id-24 div.sk-parallel-item::before {content: \"\";position: absolute;border-left: 1px solid gray;box-sizing: border-box;top: 0;bottom: 0;left: 50%;z-index: -1;}#sk-container-id-24 div.sk-parallel-item {display: flex;flex-direction: column;z-index: 1;position: relative;background-color: white;}#sk-container-id-24 div.sk-parallel-item:first-child::after {align-self: flex-end;width: 50%;}#sk-container-id-24 div.sk-parallel-item:last-child::after {align-self: flex-start;width: 50%;}#sk-container-id-24 div.sk-parallel-item:only-child::after {width: 0;}#sk-container-id-24 div.sk-dashed-wrapped {border: 1px dashed gray;margin: 0 0.4em 0.5em 0.4em;box-sizing: border-box;padding-bottom: 0.4em;background-color: white;}#sk-container-id-24 div.sk-label label {font-family: monospace;font-weight: bold;display: inline-block;line-height: 1.2em;}#sk-container-id-24 div.sk-label-container {text-align: center;}#sk-container-id-24 div.sk-container {/* jupyter's `normalize.less` sets `[hidden] { display: none; }` but bootstrap.min.css set `[hidden] { display: none !important; }` so we also need the `!important` here to be able to override the default hidden behavior on the sphinx rendered scikit-learn.org. See: https://github.com/scikit-learn/scikit-learn/issues/21755 */display: inline-block !important;position: relative;}#sk-container-id-24 div.sk-text-repr-fallback {display: none;}</style><div id=\"sk-container-id-24\" class=\"sk-top-container\"><div class=\"sk-text-repr-fallback\"><pre>SVC()</pre><b>In a Jupyter environment, please rerun this cell to show the HTML representation or trust the notebook. <br />On GitHub, the HTML representation is unable to render, please try loading this page with nbviewer.org.</b></div><div class=\"sk-container\" hidden><div class=\"sk-item\"><div class=\"sk-estimator sk-toggleable\"><input class=\"sk-toggleable__control sk-hidden--visually\" id=\"sk-estimator-id-24\" type=\"checkbox\" checked><label for=\"sk-estimator-id-24\" class=\"sk-toggleable__label sk-toggleable__label-arrow\">SVC</label><div class=\"sk-toggleable__content\"><pre>SVC()</pre></div></div></div></div></div>"
      ],
      "text/plain": [
       "SVC()"
      ]
     },
     "execution_count": 210,
     "metadata": {},
     "output_type": "execute_result"
    }
   ],
   "source": [
    "model4.fit(X_train,y_train)"
   ]
  },
  {
   "cell_type": "code",
   "execution_count": null,
   "id": "241c345c",
   "metadata": {},
   "outputs": [],
   "source": [
    "y_pred_v=model4.predict(X_test)"
   ]
  },
  {
   "cell_type": "code",
   "execution_count": 211,
   "id": "ea049e6f",
   "metadata": {},
   "outputs": [
    {
     "data": {
      "text/plain": [
       "0.8"
      ]
     },
     "execution_count": 211,
     "metadata": {},
     "output_type": "execute_result"
    }
   ],
   "source": [
    "accuracy_score(y_test,y_pred_v)"
   ]
  },
  {
   "cell_type": "code",
   "execution_count": 212,
   "id": "412c919d",
   "metadata": {},
   "outputs": [
    {
     "data": {
      "image/png": "[encoded data removed]",
      "text/plain": [
       "<Figure size 640x480 with 2 Axes>"
      ]
     },
     "metadata": {},
     "output_type": "display_data"
    }
   ],
   "source": [
    "cm = confusion_matrix(y_test, y_pred_v)\n",
    "\n",
    "# Create a heatmap\n",
    "sns.heatmap(cm, annot=True, fmt='d', cmap='Blues', xticklabels=[\"Pred 0\", \"Pred 1\"], yticklabels=[\"Actual 0\", \"Actual 1\"])\n",
    "plt.xlabel(\"Predicted\")\n",
    "plt.ylabel(\"Actual\")\n",
    "plt.title(\"Confusion Matrix\")\n",
    "plt.show()"
   ]
  },
  {
   "cell_type": "code",
   "execution_count": 213,
   "id": "d34b2e6f",
   "metadata": {},
   "outputs": [],
   "source": [
    "import pickle\n",
    "with open(\"model1.pkl\",\"wb\") as file:\n",
    "    pickle.dump(model1,file)"
   ]
  },
  {
   "cell_type": "code",
   "execution_count": 214,
   "id": "d81cfd82",
   "metadata": {},
   "outputs": [],
   "source": [
    "import pickle\n",
    "with open(\"Vectorizer.pkl\",\"wb\") as file:\n",
    "    pickle.dump(tf,file)"
   ]
  },
  {
   "cell_type": "code",
   "execution_count": null,
   "id": "58a768fa",
   "metadata": {},
   "outputs": [],
   "source": []
  },
  {
   "cell_type": "code",
   "execution_count": null,
   "id": "a4cb6b5e",
   "metadata": {},
   "outputs": [],
   "source": []
  }
 ],
 "metadata": {
  "kernelspec": {
   "display_name": "Python 3 (ipykernel)",
   "language": "python",
   "name": "python3"
  },
  "language_info": {
   "codemirror_mode": {
    "name": "ipython",
    "version": 3
   },
   "file_extension": ".py",
   "mimetype": "text/x-python",
   "name": "python",
   "nbconvert_exporter": "python",
   "pygments_lexer": "ipython3",
   "version": "3.11.7"
  },
  "varInspector": {
   "cols": {
    "lenName": 16,
    "lenType": 16,
    "lenVar": 40
   },
   "kernels_config": {
    "python": {
     "delete_cmd_postfix": "",
     "delete_cmd_prefix": "del ",
     "library": "var_list.py",
     "varRefreshCmd": "print(var_dic_list())"
    },
    "r": {
     "delete_cmd_postfix": ") ",
     "delete_cmd_prefix": "rm(",
     "library": "var_list.r",
     "varRefreshCmd": "cat(var_dic_list()) "
    }
   },
   "types_to_exclude": [
    "module",
    "function",
    "builtin_function_or_method",
    "instance",
    "_Feature"
   ],
   "window_display": false
  }
 },
 "nbformat": 4,
 "nbformat_minor": 5
}
